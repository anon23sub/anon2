{
 "cells": [
  {
   "cell_type": "code",
   "execution_count": 1,
   "metadata": {},
   "outputs": [],
   "source": [
    "import os\n",
    "os.chdir(\"../../../../\")"
   ]
  },
  {
   "cell_type": "code",
   "execution_count": 2,
   "metadata": {},
   "outputs": [],
   "source": [
    "os.environ['CUDA_VISIBLE_DEVICES'] = str(3)"
   ]
  },
  {
   "cell_type": "code",
   "execution_count": 3,
   "metadata": {},
   "outputs": [
    {
     "name": "stderr",
     "output_type": "stream",
     "text": [
      "2024-04-16 14:00:27.904601: W external/xla/xla/service/gpu/nvptx_compiler.cc:679] The NVIDIA driver's CUDA version is 12.2 which is older than the ptxas CUDA version (12.4.131). Because the driver is older than the ptxas version, XLA is disabling parallel compilation, which may slow down compilation. You should update your NVIDIA driver or use the NVIDIA-provided CUDA forward compatibility packages.\n"
     ]
    }
   ],
   "source": [
    "import jax\n",
    "import jax.numpy as jnp\n",
    "import numpy as np\n",
    "import flax.linen as nn\n",
    "import optax\n",
    "import pandas as pd\n",
    "from functools import partial\n",
    "from sklearn.preprocessing import StandardScaler\n",
    "from sklearn.model_selection import train_test_split\n",
    "import matplotlib.pyplot as plt\n",
    "import seaborn as sns\n",
    "from utilities.fits import fit\n",
    "from datasets.dataset_loader import dataset_load\n",
    "from utilities import plot, gmm, errors, predict, preprocess\n",
    "from utilities.recalibration_conformal import *\n",
    "from models import seq2point_gaussian, quantile_s2p\n",
    "import time as time\n",
    "import scipy.stats as st\n",
    "# from mapie.metrics import regression_coverage_score\n",
    "from sklearn.isotonic import IsotonicRegression\n",
    "from tueplots import bundles\n",
    "os.environ[\"XLA_FLAGS\"] = \"--xla_gpu_deterministic_reductions --xla_gpu_autotune_level=2\"\n",
    "os.environ['TF_CUDNN_DETERMINISTIC'] = '1'"
   ]
  },
  {
   "cell_type": "markdown",
   "metadata": {},
   "source": [
    "# Function Definitions"
   ]
  },
  {
   "cell_type": "code",
   "execution_count": 25,
   "metadata": {},
   "outputs": [],
   "source": [
    "def find_coverage_calib(y, y_upper_all, y_lower_all, ci, flag=False):\n",
    "    q_hats = []\n",
    "    times = []\n",
    "    E_is = []\n",
    "    random_seed = 42\n",
    "    np.random.seed(random_seed)\n",
    "    coverage = np.zeros(len(ci))\n",
    "    if flag == False:\n",
    "        for i in range(len(ci)):\n",
    "            upper = y_upper_all[i]\n",
    "            lower = y_lower_all[i]\n",
    "            coverage[i] = np.sum((y >= lower) & (\n",
    "                y <= upper)) / len(y)\n",
    "    else:\n",
    "        for i in range(len(ci)):\n",
    "            if ci[i] == 0 or ci[i] == 1:\n",
    "                coverage[i] = ci[i]\n",
    "                q_hats.append(0)\n",
    "                continue\n",
    "            initial_upper = y_upper_all[i]\n",
    "            initial_lower = y_lower_all[i]\n",
    "            upper_err = np.array(y).reshape(-1) - \\\n",
    "                np.array(initial_upper).reshape(-1)\n",
    "            lower_err = np.array(initial_lower).reshape(-1) - \\\n",
    "                np.array(y).reshape(-1)\n",
    "            E_i = np.max(np.vstack((lower_err, upper_err)), axis=0)\n",
    "            E_i = E_i + np.random.normal(0, 0.03, len(E_i))\n",
    "            E_is.append(E_i)\n",
    "            q_level = np.ceil((len(y)+1)*ci[i])/len(y)\n",
    "            q_hat = np.quantile(E_i, q_level, method='higher')\n",
    "            q_hats.append(q_hat)\n",
    "            upper = initial_upper + q_hat\n",
    "            lower = initial_lower - q_hat\n",
    "            coverage[i] = np.sum((y >= lower) & (\n",
    "                y <= upper)) / len(y)\n",
    "    return coverage, q_hats, times, E_is"
   ]
  },
  {
   "cell_type": "code",
   "execution_count": 5,
   "metadata": {},
   "outputs": [],
   "source": [
    "def find_coverage_train_test(y, y_upper_all, y_lower_all, ci, q_hats, flag=False):\n",
    "    coverage = np.zeros(len(ci))\n",
    "    if flag == False:\n",
    "        for i in range(len(ci)):\n",
    "            upper = y_upper_all[i]\n",
    "            lower = y_lower_all[i]\n",
    "            coverage[i] = np.sum((y >= lower) & (\n",
    "                y <= upper)) / len(y)\n",
    "    else:\n",
    "        for i in range(len(ci)):\n",
    "            if ci[i] == 0 or ci[i] == 1:\n",
    "                coverage[i] = ci[i]\n",
    "                continue\n",
    "            upper = y_upper_all[i] + q_hats[i]\n",
    "            lower = y_lower_all[i] - q_hats[i]\n",
    "            coverage[i] = np.sum((y >= lower) & (\n",
    "                y <= upper)) / len(y)\n",
    "    return coverage, q_hats"
   ]
  },
  {
   "cell_type": "code",
   "execution_count": 6,
   "metadata": {},
   "outputs": [],
   "source": [
    "def calib_errors(ci, coverages):\n",
    "    ece = 0.0\n",
    "    ace = 0.0\n",
    "    for i in range(len(ci)):\n",
    "        ace += abs(ci[i]-coverages[i])\n",
    "    ece = ace/len(ci)\n",
    "    return ace, ece"
   ]
  },
  {
   "cell_type": "code",
   "execution_count": 7,
   "metadata": {},
   "outputs": [],
   "source": [
    "def get_trained_model(ci, x_train, y_train):\n",
    "    alpha = 1 - ci\n",
    "    lower_params_all = []\n",
    "    upper_params_all = []\n",
    "    lower_model_all = []\n",
    "    upper_model_all = []\n",
    "    for i in range(len(ci)):\n",
    "        # define model\n",
    "        lower_model = quantile_s2p.QuantileRegression(alpha=alpha[i]/2)\n",
    "        upper_model = quantile_s2p.QuantileRegression(alpha=1 - alpha[i]/2)\n",
    "\n",
    "        # initialize model and train\n",
    "        lower_params = lower_model.init(jax.random.PRNGKey(0), x_train, True)\n",
    "        lower_params, lower_losses = fit(lower_model, lower_params, x_train, y_train, False,\n",
    "                                         batch_size=1024, learning_rate=0.0001, epochs=50)\n",
    "        upper_params = upper_model.init(jax.random.PRNGKey(0), x_train, True)\n",
    "        upper_params, upper_losses = fit(upper_model, upper_params, x_train, y_train, False,\n",
    "                                         batch_size=1024, learning_rate=0.0001, epochs=50)\n",
    "        lower_model_all.append(lower_model)\n",
    "        upper_model_all.append(upper_model)\n",
    "        lower_params_all.append(lower_params)\n",
    "        upper_params_all.append(upper_params)\n",
    "    return lower_params_all, upper_params_all, lower_model_all, upper_model_all"
   ]
  },
  {
   "cell_type": "code",
   "execution_count": 8,
   "metadata": {},
   "outputs": [],
   "source": [
    "def get_all(ci, x, lower_params_all, upper_params_all, lower_model_all, upper_model_all, scaler):\n",
    "    lower_all = []\n",
    "    upper_all = []\n",
    "    for i in range(len(ci)):\n",
    "        # get predictions x = {cal, test}\n",
    "        y_hat_lower = lower_model_all[i].apply(lower_params_all[i], x, False, rngs={\n",
    "            \"dropout\": jax.random.PRNGKey(0)})\n",
    "        y_hat_upper = upper_model_all[i].apply(upper_params_all[i], x, False, rngs={\n",
    "            \"dropout\": jax.random.PRNGKey(0)})\n",
    "        mean_upper = scaler.inverse_transform(y_hat_upper)\n",
    "        mean_lower = scaler.inverse_transform(y_hat_lower)\n",
    "        lower_all.append(mean_lower)\n",
    "        upper_all.append(mean_upper)\n",
    "    return lower_all, upper_all"
   ]
  },
  {
   "cell_type": "markdown",
   "metadata": {},
   "source": [
    "# Model Training"
   ]
  },
  {
   "cell_type": "code",
   "execution_count": 9,
   "metadata": {},
   "outputs": [],
   "source": [
    "train = {\n",
    "    1: {\n",
    "        'start_time': \"2011-04-28\",\n",
    "        'end_time': \"2011-05-15\"\n",
    "    },\n",
    "    3: {\n",
    "        'start_time': \"2011-04-19\",\n",
    "        'end_time': \"2011-05-22\"\n",
    "    }\n",
    "}\n",
    "test = {\n",
    "    2: {\n",
    "        'start_time': \"2011-04-21\",\n",
    "        'end_time': \"2011-05-21\"\n",
    "    }\n",
    "}\n",
    "appliances = [\"Dish Washer\"]"
   ]
  },
  {
   "cell_type": "code",
   "execution_count": 10,
   "metadata": {},
   "outputs": [],
   "source": [
    "datas = dataset_load(appliances, train, test, 99, split_factor=0.25)\n",
    "x_train, y_train = datas[0], datas[1]\n",
    "x_cal, y_cal = datas[2], datas[3]\n",
    "x_test, y_test = datas[4], datas[5]\n",
    "x_test_timestamp = datas[6]\n",
    "scaler_x, scaler_y = datas[7], datas[8]\n",
    "x_train, x_val, y_train, y_val = train_test_split(\n",
    "    x_train, y_train, test_size=0.25, random_state=42)"
   ]
  },
  {
   "cell_type": "code",
   "execution_count": 11,
   "metadata": {},
   "outputs": [],
   "source": [
    "training_predictions_df = pd.DataFrame()\n",
    "testing_predictions_df = pd.DataFrame()\n",
    "calibration_predictions_df = pd.DataFrame()\n",
    "training_predictions_df[\"Ground Truth\"] = scaler_y.inverse_transform(y_train)[\n",
    "    :, 0]\n",
    "calibration_predictions_df['Ground Truth'] = scaler_y.inverse_transform(y_cal)[\n",
    "    :, 0]\n",
    "testing_predictions_df[\"Timestamp\"] = x_test_timestamp\n",
    "testing_predictions_df[\"Ground Truth\"] = y_test"
   ]
  },
  {
   "cell_type": "code",
   "execution_count": 12,
   "metadata": {},
   "outputs": [],
   "source": [
    "y_true_val = scaler_y.inverse_transform(y_val)\n",
    "y_true_cal = scaler_y.inverse_transform(y_cal)\n",
    "y_train_scaled = scaler_y.inverse_transform(y_train)"
   ]
  },
  {
   "cell_type": "markdown",
   "metadata": {},
   "source": [
    "# Before Calibration"
   ]
  },
  {
   "cell_type": "code",
   "execution_count": 13,
   "metadata": {},
   "outputs": [],
   "source": [
    "ci = np.array([0.0, 0.1, 0.2, 0.3, 0.4, 0.5, 0.6, 0.7, 0.8, 0.9, 1.0])"
   ]
  },
  {
   "cell_type": "code",
   "execution_count": 14,
   "metadata": {},
   "outputs": [],
   "source": [
    "lower_params_all, upper_params_all, lower_model_all, upper_model_all = get_trained_model(\n",
    "    ci, x_train, y_train)"
   ]
  },
  {
   "cell_type": "code",
   "execution_count": 15,
   "metadata": {},
   "outputs": [],
   "source": [
    "lower_train_all, upper_train_all = get_all(\n",
    "    ci, x_train, lower_params_all, upper_params_all, lower_model_all, upper_model_all, scaler_y)\n",
    "lower_test_all, upper_test_all = get_all(\n",
    "    ci, x_val, lower_params_all, upper_params_all, lower_model_all, upper_model_all, scaler_y)\n",
    "lower_cal_all, upper_cal_all = get_all(\n",
    "    ci, x_cal, lower_params_all, upper_params_all, lower_model_all, upper_model_all, scaler_y)"
   ]
  },
  {
   "cell_type": "code",
   "execution_count": 16,
   "metadata": {},
   "outputs": [],
   "source": [
    "initial_coverages_cal, _, _, _ = find_coverage_calib(\n",
    "    y_true_cal, upper_cal_all, lower_cal_all, ci)\n",
    "initial_coverages_train, _ = find_coverage_train_test(\n",
    "    y_train_scaled, upper_train_all, lower_train_all, ci, [])\n",
    "initial_coverages_test, _ = find_coverage_train_test(\n",
    "    y_true_val, upper_test_all, lower_test_all, ci, [])"
   ]
  },
  {
   "cell_type": "code",
   "execution_count": 17,
   "metadata": {},
   "outputs": [
    {
     "data": {
      "text/plain": [
       "array([0.        , 0.11685393, 0.18956661, 0.38764045, 0.41573034,\n",
       "       0.505939  , 0.63820225, 0.74735152, 0.86565008, 0.85537721,\n",
       "       1.        ])"
      ]
     },
     "execution_count": 17,
     "metadata": {},
     "output_type": "execute_result"
    }
   ],
   "source": [
    "initial_coverages_cal"
   ]
  },
  {
   "cell_type": "code",
   "execution_count": 18,
   "metadata": {},
   "outputs": [
    {
     "data": {
      "text/plain": [
       "array([0.        , 0.10296372, 0.14294839, 0.33041644, 0.35104752,\n",
       "       0.42220235, 0.52778488, 0.70215893, 0.78596061, 0.83635664,\n",
       "       1.        ])"
      ]
     },
     "execution_count": 18,
     "metadata": {},
     "output_type": "execute_result"
    }
   ],
   "source": [
    "initial_coverages_test"
   ]
  },
  {
   "cell_type": "code",
   "execution_count": 19,
   "metadata": {},
   "outputs": [
    {
     "data": {
      "text/plain": [
       "array([0.        , 0.12002354, 0.19424229, 0.38345462, 0.41952055,\n",
       "       0.50428082, 0.63864512, 0.75128425, 0.86151541, 0.85894692,\n",
       "       1.        ])"
      ]
     },
     "execution_count": 19,
     "metadata": {},
     "output_type": "execute_result"
    }
   ],
   "source": [
    "initial_coverages_train"
   ]
  },
  {
   "cell_type": "markdown",
   "metadata": {},
   "source": [
    "# After Calibration"
   ]
  },
  {
   "cell_type": "markdown",
   "metadata": {},
   "source": [
    "### Conformal Prediction"
   ]
  },
  {
   "cell_type": "code",
   "execution_count": 26,
   "metadata": {},
   "outputs": [],
   "source": [
    "flag = True\n",
    "final_coverages_cal, q_hats, times, Errors_all_cal = find_coverage_calib(\n",
    "    y_true_cal, upper_cal_all, lower_cal_all, ci, flag=flag)\n",
    "final_coverages_train, q_hats = find_coverage_train_test(\n",
    "    y_train_scaled, upper_train_all, lower_train_all, ci, q_hats, flag=flag)\n",
    "final_coverages_test, q_hats = find_coverage_train_test(\n",
    "    y_true_val, upper_test_all, lower_test_all, ci, q_hats, flag=flag)"
   ]
  },
  {
   "cell_type": "code",
   "execution_count": 27,
   "metadata": {},
   "outputs": [
    {
     "name": "stdout",
     "output_type": "stream",
     "text": [
      "Calibration:\n",
      "Initial ace error is 0.33242375601926166 and ece error is 0.030220341456296516\n",
      "Final ace error is 0.022150882825040075 and ece error is 0.0020137166204581888\n"
     ]
    }
   ],
   "source": [
    "ace_init_cal, ece_init_cal = calib_errors(ci, initial_coverages_cal)\n",
    "ace_fin_cal, ece_fin_cal = calib_errors(ci, final_coverages_cal)\n",
    "print('Calibration:')\n",
    "print(f'Initial ace error is {ace_init_cal} and ece error is {ece_init_cal}')\n",
    "print(f'Final ace error is {ace_fin_cal} and ece error is {ece_fin_cal}')"
   ]
  },
  {
   "cell_type": "code",
   "execution_count": 28,
   "metadata": {},
   "outputs": [
    {
     "name": "stdout",
     "output_type": "stream",
     "text": [
      "Train:\n",
      "Initial ace error is 0.32553510273972597 and ece error is 0.029594100249066\n",
      "Final ace error is 0.0199700342465753 and ece error is 0.0018154576587795727\n"
     ]
    }
   ],
   "source": [
    "ace_init_train, ece_init_train = calib_errors(ci, initial_coverages_train)\n",
    "ace_fin_train, ece_fin_train = calib_errors(ci, final_coverages_train)\n",
    "print('Train:')\n",
    "print(\n",
    "    f'Initial ace error is {ace_init_train} and ece error is {ece_init_train}')\n",
    "print(f'Final ace error is {ace_fin_train} and ece error is {ece_fin_train}')"
   ]
  },
  {
   "cell_type": "code",
   "execution_count": 29,
   "metadata": {},
   "outputs": [
    {
     "name": "stdout",
     "output_type": "stream",
     "text": [
      "Test:\n",
      "Initial ace error is 0.3692386925220491 and ece error is 0.033567153865640825\n",
      "Final ace error is 0.5205034390091896 and ece error is 0.047318494455380875\n"
     ]
    }
   ],
   "source": [
    "ace_init_test, ece_init_test = calib_errors(ci, initial_coverages_test)\n",
    "ace_fin_test, ece_fin_test = calib_errors(ci, final_coverages_test)\n",
    "print('Test:')\n",
    "print(f'Initial ace error is {ace_init_test} and ece error is {ece_init_test}')\n",
    "print(f'Final ace error is {ace_fin_test} and ece error is {ece_fin_test}')"
   ]
  },
  {
   "cell_type": "code",
   "execution_count": 30,
   "metadata": {},
   "outputs": [
    {
     "data": {
      "text/plain": [
       "<matplotlib.legend.Legend at 0x7f484c5c9810>"
      ]
     },
     "execution_count": 30,
     "metadata": {},
     "output_type": "execute_result"
    },
    {
     "data": {
      "image/png": "[encoded data removed]",
      "text/plain": [
       "<Figure size 900x200 with 3 Axes>"
      ]
     },
     "metadata": {},
     "output_type": "display_data"
    }
   ],
   "source": [
    "# Train\n",
    "plt.rcParams.update(bundles.icml2022())\n",
    "plt.rcParams.update({'figure.figsize': (9, 2)})\n",
    "plt.subplot(1, 3, 1)\n",
    "plt.plot(ci, initial_coverages_train, label='Uncalibrated', linestyle='--')\n",
    "plt.plot(ci, final_coverages_train, label='Calibrated', linestyle='--')\n",
    "plt.plot([0, 1], [0, 1], label=\"Ideal\", linestyle='--')\n",
    "plt.title(\n",
    "    f'Train:Before Calibration: {\"{:.4f}\".format(ece_init_train)}, After Calibration: {\"{:.4f}\".format(ece_fin_train)}')\n",
    "plt.legend()\n",
    "\n",
    "# Calibration\n",
    "plt.subplot(1, 3, 2)\n",
    "plt.plot(ci, initial_coverages_cal, label='Uncalibrated', linestyle='--')\n",
    "plt.plot(ci, final_coverages_cal, label='Calibrated', linestyle='--')\n",
    "plt.plot([0, 1], [0, 1], label=\"Ideal\", linestyle='--')\n",
    "plt.title(\n",
    "    f'Calibration:Before Calibration: {\"{:.4f}\".format(ece_init_cal)}, After Calibration: {\"{:.4f}\".format(ece_fin_cal)}')\n",
    "plt.legend()\n",
    "\n",
    "# Test\n",
    "plt.subplot(1, 3, 3)\n",
    "plt.plot(ci, initial_coverages_test, label='Uncalibrated', linestyle='--')\n",
    "plt.plot(ci, final_coverages_test, label='Calibrated', linestyle='--')\n",
    "plt.plot([0, 1], [0, 1], label=\"Ideal\", linestyle='--')\n",
    "plt.title(\n",
    "    f'Test:Before Calibration: {\"{:.4f}\".format(ece_init_test)}, After Calibration: {\"{:.4f}\".format(ece_fin_test)}')\n",
    "plt.legend()\n",
    "# plt.savefig(\n",
    "#     f'/home/haikoo.khandor/haikoo/conformal/con_figures/{appliances[0]}_S2P_Hetero_Conformal_Conformal.pdf')"
   ]
  },
  {
   "cell_type": "code",
   "execution_count": null,
   "metadata": {},
   "outputs": [],
   "source": []
  }
 ],
 "metadata": {
  "kernelspec": {
   "display_name": "personal",
   "language": "python",
   "name": "python3"
  },
  "language_info": {
   "codemirror_mode": {
    "name": "ipython",
    "version": 3
   },
   "file_extension": ".py",
   "mimetype": "text/x-python",
   "name": "python",
   "nbconvert_exporter": "python",
   "pygments_lexer": "ipython3",
   "version": "3.11.5"
  },
  "orig_nbformat": 4
 },
 "nbformat": 4,
 "nbformat_minor": 2
}
