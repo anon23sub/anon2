{
 "cells": [
  {
   "cell_type": "code",
   "execution_count": 1,
   "metadata": {},
   "outputs": [],
   "source": [
    "import os\n",
    "os.chdir(\"../../../../\")"
   ]
  },
  {
   "cell_type": "code",
   "execution_count": 2,
   "metadata": {},
   "outputs": [],
   "source": [
    "os.environ['CUDA_VISIBLE_DEVICES'] = str(3)"
   ]
  },
  {
   "cell_type": "code",
   "execution_count": 3,
   "metadata": {},
   "outputs": [
    {
     "name": "stderr",
     "output_type": "stream",
     "text": [
      "2024-04-14 00:31:27.567894: W external/xla/xla/service/gpu/nvptx_compiler.cc:679] The NVIDIA driver's CUDA version is 12.2 which is older than the ptxas CUDA version (12.4.131). Because the driver is older than the ptxas version, XLA is disabling parallel compilation, which may slow down compilation. You should update your NVIDIA driver or use the NVIDIA-provided CUDA forward compatibility packages.\n"
     ]
    }
   ],
   "source": [
    "import jax\n",
    "import jax.numpy as jnp\n",
    "import numpy as np\n",
    "import flax.linen as nn\n",
    "import optax\n",
    "import pandas as pd\n",
    "from functools import partial\n",
    "from sklearn.preprocessing import StandardScaler\n",
    "import matplotlib.pyplot as plt\n",
    "import seaborn as sns\n",
    "from utilities.fits import fit\n",
    "from datasets.dataset_loader import dataset_load\n",
    "from utilities import plot, gmm, errors, predict, preprocess\n",
    "from utilities.recalibration_conformal import *\n",
    "from models import seq2point_gaussian\n",
    "import scipy.stats as st\n",
    "# from mapie.metrics import regression_coverage_score\n",
    "from sklearn.isotonic import IsotonicRegression\n",
    "from tueplots import bundles\n",
    "os.environ[\"XLA_FLAGS\"] = \"--xla_gpu_deterministic_reductions --xla_gpu_autotune_level=2\"\n",
    "os.environ['TF_CUDNN_DETERMINISTIC'] = '1'"
   ]
  },
  {
   "cell_type": "markdown",
   "metadata": {},
   "source": [
    "# Model Training"
   ]
  },
  {
   "cell_type": "code",
   "execution_count": 4,
   "metadata": {},
   "outputs": [],
   "source": [
    "train = {\n",
    "    1: {\n",
    "        'start_time': \"2011-04-28\",\n",
    "        'end_time': \"2011-05-15\"\n",
    "    },\n",
    "    2: {\n",
    "        'start_time': \"2011-04-21\",\n",
    "        'end_time': \"2011-05-21\"\n",
    "    }\n",
    "}\n",
    "test = {\n",
    "    3: {\n",
    "        'start_time': \"2011-04-19\",\n",
    "        'end_time': \"2011-05-22\"\n",
    "    }\n",
    "}\n",
    "appliances = [\"Microwave\"]"
   ]
  },
  {
   "cell_type": "code",
   "execution_count": 5,
   "metadata": {},
   "outputs": [],
   "source": [
    "datas = dataset_load(appliances, train, test, 99, split_factor=0.25)\n",
    "x_train, y_train = datas[0], datas[1]\n",
    "x_cal, y_cal = datas[2], datas[3]\n",
    "x_test, y_test = datas[4], datas[5]\n",
    "x_test_timestamp = datas[6]\n",
    "scaler_x, scaler_y = datas[7], datas[8]"
   ]
  },
  {
   "cell_type": "code",
   "execution_count": 6,
   "metadata": {},
   "outputs": [],
   "source": [
    "training_predictions_df = pd.DataFrame()\n",
    "testing_predictions_df = pd.DataFrame()\n",
    "calibration_predictions_df = pd.DataFrame()\n",
    "training_predictions_df[\"Ground Truth\"] = scaler_y.inverse_transform(y_train)[\n",
    "    :, 0]\n",
    "calibration_predictions_df['Ground Truth'] = scaler_y.inverse_transform(y_cal)[\n",
    "    :, 0]\n",
    "testing_predictions_df[\"Timestamp\"] = x_test_timestamp\n",
    "testing_predictions_df[\"Ground Truth\"] = y_test"
   ]
  },
  {
   "cell_type": "code",
   "execution_count": 7,
   "metadata": {},
   "outputs": [],
   "source": [
    "model = seq2point_gaussian.seq2point()"
   ]
  },
  {
   "cell_type": "code",
   "execution_count": 8,
   "metadata": {},
   "outputs": [],
   "source": [
    "%%capture cap --no-stderr\n",
    "%%time\n",
    "params =  model.init(jax.random.PRNGKey(0), x_train, True)\n",
    "params, losses = fit(model, params, x_train, y_train, False, batch_size=1024, learning_rate=0.0001, epochs=50)"
   ]
  },
  {
   "cell_type": "code",
   "execution_count": 9,
   "metadata": {},
   "outputs": [
    {
     "data": {
      "image/png": "[encoded data removed]",
      "text/plain": [
       "<Figure size 640x480 with 1 Axes>"
      ]
     },
     "metadata": {},
     "output_type": "display_data"
    }
   ],
   "source": [
    "plt.plot(losses)\n",
    "sns.despine()"
   ]
  },
  {
   "cell_type": "code",
   "execution_count": 10,
   "metadata": {},
   "outputs": [
    {
     "data": {
      "text/plain": [
       "'Wall time: 10.2 s'"
      ]
     },
     "execution_count": 10,
     "metadata": {},
     "output_type": "execute_result"
    }
   ],
   "source": [
    "mlp_training_time = cap.stdout.split('\\n')[1]\n",
    "mlp_training_time"
   ]
  },
  {
   "cell_type": "code",
   "execution_count": 11,
   "metadata": {},
   "outputs": [],
   "source": [
    "n_stacks = 10\n",
    "\n",
    "\n",
    "def fn(x, i): return model.apply(params, x, False,\n",
    "                                 rngs={\"dropout\": jax.random.PRNGKey(i)})"
   ]
  },
  {
   "cell_type": "markdown",
   "metadata": {},
   "source": [
    "# Before Calibration"
   ]
  },
  {
   "cell_type": "markdown",
   "metadata": {},
   "source": [
    "##### Results on Calibration Set"
   ]
  },
  {
   "cell_type": "code",
   "execution_count": 12,
   "metadata": {},
   "outputs": [],
   "source": [
    "%%capture cap\n",
    "%%time\n",
    "y_stacks_cal = jax.vmap(jax.jit(fn), in_axes=(None, 0))(\n",
    "    x_cal, jnp.arange(n_stacks))"
   ]
  },
  {
   "cell_type": "code",
   "execution_count": 13,
   "metadata": {},
   "outputs": [],
   "source": [
    "mc_cal_mean, mc_cal_sigma = gmm.gmm_mean_var(y_stacks_cal[0], y_stacks_cal[1])"
   ]
  },
  {
   "cell_type": "code",
   "execution_count": 14,
   "metadata": {},
   "outputs": [],
   "source": [
    "mc_cal_mean = scaler_y.inverse_transform(mc_cal_mean)\n",
    "mc_cal_sigma = (scaler_y.scale_*mc_cal_sigma)\n",
    "y_true_cal = scaler_y.inverse_transform(y_cal)"
   ]
  },
  {
   "cell_type": "code",
   "execution_count": 15,
   "metadata": {},
   "outputs": [
    {
     "name": "stdout",
     "output_type": "stream",
     "text": [
      "RMSE : 108.8961 MAE  : 13.9911 NLL : 2.4748\n"
     ]
    }
   ],
   "source": [
    "print(f\"RMSE : {errors.rmse(y_true_cal, mc_cal_mean):.4f} MAE  : {errors.mae(y_true_cal, mc_cal_mean):.4f} NLL : {errors.NLL(mc_cal_mean,mc_cal_sigma,y_true_cal):.4f}\")"
   ]
  },
  {
   "cell_type": "code",
   "execution_count": 16,
   "metadata": {},
   "outputs": [
    {
     "data": {
      "text/plain": [
       "'Wall time: 1.22 s'"
      ]
     },
     "execution_count": 16,
     "metadata": {},
     "output_type": "execute_result"
    }
   ],
   "source": [
    "mlp_calibration_time = cap.stdout.split('\\n')[1]\n",
    "mlp_calibration_time"
   ]
  },
  {
   "cell_type": "markdown",
   "metadata": {},
   "source": [
    "##### Results on Training Set"
   ]
  },
  {
   "cell_type": "code",
   "execution_count": 17,
   "metadata": {},
   "outputs": [],
   "source": [
    "y_stacks_train = jax.vmap(jax.jit(fn), in_axes=(None, 0))(\n",
    "    x_train, jnp.arange(n_stacks))"
   ]
  },
  {
   "cell_type": "code",
   "execution_count": 18,
   "metadata": {},
   "outputs": [],
   "source": [
    "mc_train_mean, mc_train_sigma = gmm.gmm_mean_var(\n",
    "    y_stacks_train[0], y_stacks_train[1])"
   ]
  },
  {
   "cell_type": "code",
   "execution_count": 19,
   "metadata": {},
   "outputs": [],
   "source": [
    "mc_train_mean = scaler_y.inverse_transform(mc_train_mean)\n",
    "mc_train_sigma = (scaler_y.scale_*mc_train_sigma)\n",
    "y_train_scaled = scaler_y.inverse_transform(y_train)"
   ]
  },
  {
   "cell_type": "code",
   "execution_count": 20,
   "metadata": {},
   "outputs": [
    {
     "name": "stdout",
     "output_type": "stream",
     "text": [
      "RMSE : 97.5528 MAE  : 12.0754 NLL  : 2.4427\n"
     ]
    }
   ],
   "source": [
    "print(f\"RMSE : {errors.rmse(y_train_scaled, mc_train_mean):.4f}\", f\"MAE  : {errors.mae(y_train_scaled, mc_train_mean):.4f}\",\n",
    "      f\"NLL  : {errors.NLL(mc_train_mean, mc_train_sigma, y_train_scaled):.4f}\")"
   ]
  },
  {
   "cell_type": "markdown",
   "metadata": {},
   "source": [
    "##### Results on Test Set"
   ]
  },
  {
   "cell_type": "code",
   "execution_count": 21,
   "metadata": {},
   "outputs": [],
   "source": [
    "%%capture cap\n",
    "%%time\n",
    "y_stacks_test = jax.vmap(jax.jit(fn), in_axes=(\n",
    "    None, 0))(x_test, jnp.arange(n_stacks))"
   ]
  },
  {
   "cell_type": "code",
   "execution_count": 22,
   "metadata": {},
   "outputs": [],
   "source": [
    "mc_test_mean, mc_test_sigma = gmm.gmm_mean_var(\n",
    "    y_stacks_test[0], y_stacks_test[1])"
   ]
  },
  {
   "cell_type": "code",
   "execution_count": 23,
   "metadata": {},
   "outputs": [],
   "source": [
    "mc_test_mean = scaler_y.inverse_transform(mc_test_mean)\n",
    "mc_test_sigma = (scaler_y.scale_*mc_test_sigma)"
   ]
  },
  {
   "cell_type": "code",
   "execution_count": 24,
   "metadata": {},
   "outputs": [
    {
     "name": "stdout",
     "output_type": "stream",
     "text": [
      "RMSE : 79.3839 MAE  : 11.1831 NLL  : 6.8834\n"
     ]
    }
   ],
   "source": [
    "print(f\"RMSE : {errors.rmse(y_test, mc_test_mean):.4f}\", f\"MAE  : {errors.mae(y_test, mc_test_mean):.4f}\",\n",
    "      f\"NLL  : {errors.NLL(mc_test_mean, mc_test_sigma, y_test):.4f}\")"
   ]
  },
  {
   "cell_type": "code",
   "execution_count": 25,
   "metadata": {},
   "outputs": [
    {
     "data": {
      "text/plain": [
       "'Wall time: 2.17 s'"
      ]
     },
     "execution_count": 25,
     "metadata": {},
     "output_type": "execute_result"
    }
   ],
   "source": [
    "mlp_testing_time = cap.stdout.split('\\n')[1]\n",
    "mlp_testing_time"
   ]
  },
  {
   "cell_type": "markdown",
   "metadata": {},
   "source": [
    "# After Calibration"
   ]
  },
  {
   "cell_type": "markdown",
   "metadata": {},
   "source": [
    "### Isotonic Regression"
   ]
  },
  {
   "cell_type": "code",
   "execution_count": 26,
   "metadata": {},
   "outputs": [],
   "source": [
    "def ace(ideal, predicted):\n",
    "    \"\"\"\n",
    "    dataframe : pandas dataframe with Ideal and Counts as column for regression calibration\n",
    "    It can be directly used as 2nd output from calibration_regression in plot.py \n",
    "    \"\"\"\n",
    "    def rmse_loss(y, yhat):\n",
    "        return jnp.abs(y-yhat)\n",
    "    return jnp.mean(jax.vmap(rmse_loss, in_axes=(0, 0))(ideal, predicted))"
   ]
  },
  {
   "cell_type": "code",
   "execution_count": 27,
   "metadata": {},
   "outputs": [],
   "source": [
    "%%capture cap\n",
    "%%time\n",
    "series_train = find_p_hat(y_train_scaled, mc_train_mean, mc_train_sigma)\n",
    "series_test = find_p_hat(y_test, mc_test_mean, mc_test_sigma)\n",
    "series_cal = find_p_hat(y_true_cal, mc_cal_mean, mc_cal_sigma)"
   ]
  },
  {
   "cell_type": "code",
   "execution_count": 28,
   "metadata": {},
   "outputs": [
    {
     "data": {
      "text/plain": [
       "'Wall time: 631 ms'"
      ]
     },
     "execution_count": 28,
     "metadata": {},
     "output_type": "execute_result"
    }
   ],
   "source": [
    "isotonic_1 = cap.stdout.split('\\n')[1]\n",
    "isotonic_1"
   ]
  },
  {
   "cell_type": "code",
   "execution_count": 29,
   "metadata": {},
   "outputs": [],
   "source": [
    "%%capture cap\n",
    "%%time\n",
    "calibrator = IsotonicRegression(out_of_bounds='clip')\n",
    "calibrator.fit(series_cal.values, series_cal.index)"
   ]
  },
  {
   "cell_type": "code",
   "execution_count": 30,
   "metadata": {},
   "outputs": [
    {
     "data": {
      "text/plain": [
       "'Wall time: 1.63 ms'"
      ]
     },
     "execution_count": 30,
     "metadata": {},
     "output_type": "execute_result"
    }
   ],
   "source": [
    "isotonic_2 = cap.stdout.split('\\n')[1]\n",
    "isotonic_2"
   ]
  },
  {
   "cell_type": "code",
   "execution_count": 31,
   "metadata": {},
   "outputs": [],
   "source": [
    "%%capture cap\n",
    "%%time\n",
    "p = series_cal.index\n",
    "new_p = calibrator.predict(series_cal.index)"
   ]
  },
  {
   "cell_type": "code",
   "execution_count": 32,
   "metadata": {},
   "outputs": [
    {
     "data": {
      "text/plain": [
       "'Wall time: 364 us'"
      ]
     },
     "execution_count": 32,
     "metadata": {},
     "output_type": "execute_result"
    }
   ],
   "source": [
    "isotonic_3 = cap.stdout.split('\\n')[1]\n",
    "isotonic_3"
   ]
  },
  {
   "cell_type": "code",
   "execution_count": 33,
   "metadata": {},
   "outputs": [],
   "source": [
    "%%capture cap\n",
    "%%time\n",
    "new_p_hat_train = find_new_p_hat(\n",
    "    y_train_scaled, new_p, mc_train_mean, mc_train_sigma)\n",
    "new_p_hat_cal = find_new_p_hat(y_true_cal, new_p, mc_cal_mean, mc_cal_sigma)\n",
    "new_p_hat_test = find_new_p_hat(y_test, new_p, mc_test_mean, mc_test_sigma)"
   ]
  },
  {
   "cell_type": "code",
   "execution_count": 34,
   "metadata": {},
   "outputs": [
    {
     "data": {
      "text/plain": [
       "'Wall time: 45 ms'"
      ]
     },
     "execution_count": 34,
     "metadata": {},
     "output_type": "execute_result"
    }
   ],
   "source": [
    "isotonic_4 = cap.stdout.split('\\n')[1]\n",
    "isotonic_4"
   ]
  },
  {
   "cell_type": "code",
   "execution_count": 35,
   "metadata": {},
   "outputs": [
    {
     "data": {
      "text/plain": [
       "{'text.usetex': True,\n",
       " 'font.family': 'serif',\n",
       " 'text.latex.preamble': '\\\\usepackage{times} ',\n",
       " 'figure.figsize': (3.25, 2.0086104634371584),\n",
       " 'figure.constrained_layout.use': True,\n",
       " 'figure.autolayout': False,\n",
       " 'savefig.bbox': 'tight',\n",
       " 'savefig.pad_inches': 0.015,\n",
       " 'font.size': 8,\n",
       " 'axes.labelsize': 8,\n",
       " 'legend.fontsize': 6,\n",
       " 'xtick.labelsize': 6,\n",
       " 'ytick.labelsize': 6,\n",
       " 'axes.titlesize': 8}"
      ]
     },
     "execution_count": 35,
     "metadata": {},
     "output_type": "execute_result"
    }
   ],
   "source": [
    "bundles.icml2022()"
   ]
  },
  {
   "cell_type": "code",
   "execution_count": 36,
   "metadata": {},
   "outputs": [
    {
     "data": {
      "text/plain": [
       "<matplotlib.legend.Legend at 0x7fbb3c431b90>"
      ]
     },
     "execution_count": 36,
     "metadata": {},
     "output_type": "execute_result"
    },
    {
     "data": {
      "image/png": "[encoded data removed]",
      "text/plain": [
       "<Figure size 800x200 with 3 Axes>"
      ]
     },
     "metadata": {},
     "output_type": "display_data"
    }
   ],
   "source": [
    "plt.rcParams.update(bundles.icml2022())\n",
    "plt.rcParams.update({'figure.figsize': (8, 2)})\n",
    "plt.subplot(1, 3, 1)\n",
    "plt.plot(p, series_train.values, label='Uncalibrated', linestyle='--')\n",
    "plt.plot(p, new_p_hat_train, label='Calibrated', linestyle='--')\n",
    "plt.plot([0, 1], [0, 1], label=\"Ideal\", linestyle='--')\n",
    "plt.title(\n",
    "    f\"Train Data: Before cal:{ace(p.values,series_train.values):2f} After cal:{ace(p.values,new_p_hat_train):2f}\")\n",
    "plt.legend()\n",
    "\n",
    "plt.subplot(1, 3, 2)\n",
    "plt.plot(p, series_cal.values, label='Uncalibrated', linestyle='--')\n",
    "plt.plot(p, new_p_hat_cal, label='Calibrated', linestyle='--')\n",
    "plt.plot([0, 1], [0, 1], label=\"Ideal\", linestyle='--')\n",
    "plt.title(\n",
    "    f\"Cal Data: Before cal:{ace(p.values,series_cal.values):2f} After cal:{ace(p.values,new_p_hat_cal):2f}\")\n",
    "plt.legend()\n",
    "\n",
    "plt.subplot(1, 3, 3)\n",
    "plt.plot(p, series_test.values, label='Uncalibrated', linestyle='--')\n",
    "plt.plot(p, new_p_hat_test, label='Calibrated', linestyle='--')\n",
    "plt.plot([0, 1], [0, 1], label=\"Ideal\", linestyle='--')\n",
    "plt.title(\n",
    "    f\"Test Data: Before cal:{ace(p.values,series_test.values):2f} After cal:{ace(p.values,new_p_hat_test):2f}\")\n",
    "plt.legend()\n",
    "# plt.savefig(\n",
    "#     f'/home/haikoo.khandor/haikoo/conformal/con_figures/{appliances[0]}_S2P_Hetero_MC.pdf')"
   ]
  }
 ],
 "metadata": {
  "kernelspec": {
   "display_name": "pc1",
   "language": "python",
   "name": "python3"
  },
  "language_info": {
   "codemirror_mode": {
    "name": "ipython",
    "version": 3
   },
   "file_extension": ".py",
   "mimetype": "text/x-python",
   "name": "python",
   "nbconvert_exporter": "python",
   "pygments_lexer": "ipython3",
   "version": "3.11.5"
  },
  "orig_nbformat": 4
 },
 "nbformat": 4,
 "nbformat_minor": 2
}
