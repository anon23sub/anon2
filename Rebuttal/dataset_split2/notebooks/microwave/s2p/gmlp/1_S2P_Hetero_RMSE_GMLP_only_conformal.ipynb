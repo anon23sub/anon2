{
 "cells": [
  {
   "cell_type": "code",
   "execution_count": 1,
   "metadata": {},
   "outputs": [],
   "source": [
    "import os\n",
    "os.chdir(\"../../../../\")"
   ]
  },
  {
   "cell_type": "code",
   "execution_count": 2,
   "metadata": {},
   "outputs": [],
   "source": [
    "os.environ['CUDA_VISIBLE_DEVICES'] = str(1)"
   ]
  },
  {
   "cell_type": "code",
   "execution_count": 3,
   "metadata": {},
   "outputs": [
    {
     "name": "stderr",
     "output_type": "stream",
     "text": [
      "2024-04-14 02:23:00.586722: W external/xla/xla/service/gpu/nvptx_compiler.cc:679] The NVIDIA driver's CUDA version is 12.2 which is older than the ptxas CUDA version (12.4.131). Because the driver is older than the ptxas version, XLA is disabling parallel compilation, which may slow down compilation. You should update your NVIDIA driver or use the NVIDIA-provided CUDA forward compatibility packages.\n"
     ]
    }
   ],
   "source": [
    "import jax\n",
    "import jax.numpy as jnp\n",
    "import numpy as np\n",
    "import flax.linen as nn\n",
    "import optax\n",
    "import pandas as pd\n",
    "from functools import partial\n",
    "from sklearn.preprocessing import StandardScaler\n",
    "import matplotlib.pyplot as plt\n",
    "import seaborn as sns\n",
    "from utilities.fits import fit\n",
    "import time as time\n",
    "from datasets.dataset_loader import dataset_load\n",
    "from utilities import plot, gmm, errors, predict, preprocess\n",
    "from utilities.recalibration_conformal import *\n",
    "from models import seq2point_gaussian\n",
    "import scipy.stats as st\n",
    "# from mapie.metrics import regression_coverage_score\n",
    "from sklearn.isotonic import IsotonicRegression\n",
    "from tueplots import bundles\n",
    "os.environ[\"XLA_FLAGS\"] = \"--xla_gpu_deterministic_reductions --xla_gpu_autotune_level=2\"\n",
    "os.environ['TF_CUDNN_DETERMINISTIC'] = '1'"
   ]
  },
  {
   "cell_type": "markdown",
   "metadata": {},
   "source": [
    "# Function Definitions"
   ]
  },
  {
   "cell_type": "code",
   "execution_count": 4,
   "metadata": {},
   "outputs": [],
   "source": [
    "def find_coverage_calib(y, y_noisy, sigmas, ci, flag=False):\n",
    "    alpha = 1 - ci                  # size = len(ci)\n",
    "    k = st.norm.ppf(1 - alpha / 2)  # size = len(ci)\n",
    "    q_hats = []\n",
    "    times = []\n",
    "    coverage = np.zeros(len(ci))\n",
    "    if flag == False:\n",
    "        for i in range(len(ci)):\n",
    "            upper = y_noisy + k[i] * sigmas\n",
    "            lower = y_noisy - k[i] * sigmas\n",
    "            print('-----------')\n",
    "            print(lower)\n",
    "            print(upper)\n",
    "            coverage[i] = np.sum((y >= lower) & (\n",
    "                y <= upper)) / len(y)\n",
    "            print(coverage[i])\n",
    "            print('-----------')\n",
    "\n",
    "    else:\n",
    "        for i in range(len(ci)):\n",
    "            # tb = time.time()\n",
    "            if ci[i] == 0 or ci[i] == 1:\n",
    "                coverage[i] = ci[i]\n",
    "                q_hats.append(0)\n",
    "                continue\n",
    "            initial_upper = y_noisy + k[i] * sigmas\n",
    "            initial_lower = y_noisy - k[i] * sigmas\n",
    "            upper_err = np.array(y).reshape(-1) - \\\n",
    "                np.array(initial_upper).reshape(-1)\n",
    "            lower_err = np.array(initial_lower).reshape(-1) - \\\n",
    "                np.array(y).reshape(-1)\n",
    "            E_i = np.max(np.vstack((lower_err, upper_err)), axis=0)\n",
    "            # E_i = []\n",
    "            # for j in range(len(y)):\n",
    "            #     E_i.append(\n",
    "            #         max(y_noisy[j] - initial_upper[j], initial_lower[j] - y_noisy[j]))\n",
    "\n",
    "            q_level = np.ceil((len(y)+1)*ci[i])/len(y)\n",
    "            # print(\"q_level: \", q_level)\n",
    "            q_hat = np.quantile(E_i, q_level, method='higher')\n",
    "            q_hats.append(q_hat)\n",
    "            upper = initial_upper + q_hat\n",
    "            lower = initial_lower - q_hat\n",
    "            # ta = time.time()\n",
    "            # times.append(ta-tb)\n",
    "            coverage[i] = np.sum((y >= lower) & (\n",
    "                y <= upper)) / len(y)\n",
    "            # check if 0 is in ci array and if so, set coverage to 0 at that index\n",
    "\n",
    "    return coverage, q_hats, times"
   ]
  },
  {
   "cell_type": "code",
   "execution_count": 5,
   "metadata": {},
   "outputs": [],
   "source": [
    "def find_coverage_train_test(y, y_noisy, sigmas, ci, q_hats, flag=False):\n",
    "    alpha = 1 - ci                  # size = len(ci)\n",
    "    k = st.norm.ppf(1 - alpha / 2)  # size = len(ci)\n",
    "    coverage = np.zeros(len(ci))\n",
    "    if flag == False:\n",
    "        for i in range(len(ci)):\n",
    "            upper = y_noisy + k[i] * sigmas\n",
    "            lower = y_noisy - k[i] * sigmas\n",
    "            coverage[i] = np.sum((y >= lower) & (\n",
    "                y <= upper)) / len(y)\n",
    "    else:\n",
    "        for i in range(len(ci)):\n",
    "            if ci[i] == 0 or ci[i] == 1:\n",
    "                coverage[i] = ci[i]\n",
    "                continue\n",
    "            upper = y_noisy + k[i] * sigmas + q_hats[i]\n",
    "            lower = y_noisy - k[i] * sigmas - q_hats[i]\n",
    "            coverage[i] = np.sum((y >= lower) & (\n",
    "                y <= upper)) / len(y)\n",
    "            # check if 0 is in ci array and if so, set coverage to 0 at that index\n",
    "\n",
    "    return coverage, q_hats"
   ]
  },
  {
   "cell_type": "code",
   "execution_count": 6,
   "metadata": {},
   "outputs": [],
   "source": [
    "def calib_errors(ci, coverages):\n",
    "    ece = 0.0\n",
    "    ace = 0.0\n",
    "    for i in range(len(ci)):\n",
    "        ace += abs(ci[i]-coverages[i])\n",
    "    ece = ace/len(ci)\n",
    "    return ace, ece"
   ]
  },
  {
   "cell_type": "markdown",
   "metadata": {},
   "source": [
    "# Model Training"
   ]
  },
  {
   "cell_type": "code",
   "execution_count": 7,
   "metadata": {},
   "outputs": [],
   "source": [
    "train = {\n",
    "    3: {\n",
    "        'start_time': \"2011-04-19\",\n",
    "        'end_time': \"2011-05-22\"\n",
    "    },\n",
    "    2: {\n",
    "        'start_time': \"2011-04-21\",\n",
    "        'end_time': \"2011-05-21\"\n",
    "    }\n",
    "}\n",
    "test = {\n",
    "    1: {\n",
    "        'start_time': \"2011-04-28\",\n",
    "        'end_time': \"2011-05-15\"\n",
    "    }\n",
    "\n",
    "}\n",
    "appliances = [\"Microwave\"]"
   ]
  },
  {
   "cell_type": "code",
   "execution_count": 8,
   "metadata": {},
   "outputs": [],
   "source": [
    "datas = dataset_load(appliances, train, test, 99, split_factor=0.25)\n",
    "x_train, y_train = datas[0], datas[1]\n",
    "x_cal, y_cal = datas[2], datas[3]\n",
    "x_test, y_test = datas[4], datas[5]\n",
    "x_test_timestamp = datas[6]\n",
    "scaler_x, scaler_y = datas[7], datas[8]"
   ]
  },
  {
   "cell_type": "code",
   "execution_count": 9,
   "metadata": {},
   "outputs": [],
   "source": [
    "training_predictions_df = pd.DataFrame()\n",
    "testing_predictions_df = pd.DataFrame()\n",
    "calibration_predictions_df = pd.DataFrame()\n",
    "training_predictions_df[\"Ground Truth\"] = scaler_y.inverse_transform(y_train)[\n",
    "    :, 0]\n",
    "calibration_predictions_df['Ground Truth'] = scaler_y.inverse_transform(y_cal)[\n",
    "    :, 0]\n",
    "testing_predictions_df[\"Timestamp\"] = x_test_timestamp\n",
    "testing_predictions_df[\"Ground Truth\"] = y_test"
   ]
  },
  {
   "cell_type": "code",
   "execution_count": 10,
   "metadata": {},
   "outputs": [],
   "source": [
    "model = seq2point_gaussian.seq2point()"
   ]
  },
  {
   "cell_type": "code",
   "execution_count": 11,
   "metadata": {},
   "outputs": [],
   "source": [
    "%%capture cap --no-stderr\n",
    "%%time\n",
    "params =  model.init(jax.random.PRNGKey(0), x_train, True)\n",
    "params, losses = fit(model, params, x_train, y_train, False, batch_size=1024, learning_rate=0.0001, epochs=50)"
   ]
  },
  {
   "cell_type": "code",
   "execution_count": 12,
   "metadata": {},
   "outputs": [
    {
     "data": {
      "image/png": "[encoded data removed]",
      "text/plain": [
       "<Figure size 640x480 with 1 Axes>"
      ]
     },
     "metadata": {},
     "output_type": "display_data"
    }
   ],
   "source": [
    "plt.plot(losses)\n",
    "sns.despine()"
   ]
  },
  {
   "cell_type": "code",
   "execution_count": 13,
   "metadata": {},
   "outputs": [
    {
     "data": {
      "text/plain": [
       "'Wall time: 11 s'"
      ]
     },
     "execution_count": 13,
     "metadata": {},
     "output_type": "execute_result"
    }
   ],
   "source": [
    "mlp_training_time = cap.stdout.split('\\n')[1]\n",
    "mlp_training_time"
   ]
  },
  {
   "cell_type": "markdown",
   "metadata": {},
   "source": [
    "# Before Calibration"
   ]
  },
  {
   "cell_type": "markdown",
   "metadata": {},
   "source": [
    "##### Results on Calibration Set"
   ]
  },
  {
   "cell_type": "code",
   "execution_count": 14,
   "metadata": {},
   "outputs": [],
   "source": [
    "%%capture cap\n",
    "%%time\n",
    "y_hat = model.apply(params, x_cal, True, rngs={\n",
    "                    \"dropout\": jax.random.PRNGKey(0)})"
   ]
  },
  {
   "cell_type": "code",
   "execution_count": 15,
   "metadata": {},
   "outputs": [],
   "source": [
    "cal_mean = scaler_y.inverse_transform(y_hat[0])\n",
    "cal_sigma = scaler_y.scale_*y_hat[1]\n",
    "y_true_cal = scaler_y.inverse_transform(y_cal)"
   ]
  },
  {
   "cell_type": "code",
   "execution_count": 16,
   "metadata": {},
   "outputs": [
    {
     "name": "stdout",
     "output_type": "stream",
     "text": [
      "RMSE : 92.2513 MAE  : 10.4164 NLL : 2.3873\n"
     ]
    }
   ],
   "source": [
    "print(f\"RMSE : {errors.rmse(y_true_cal, cal_mean):.4f} MAE  : {errors.mae(y_true_cal, cal_mean):.4f} NLL : {errors.NLL(cal_mean,cal_sigma,y_true_cal):.4f}\")"
   ]
  },
  {
   "cell_type": "code",
   "execution_count": 17,
   "metadata": {},
   "outputs": [
    {
     "data": {
      "text/plain": [
       "'Wall time: 1.19 s'"
      ]
     },
     "execution_count": 17,
     "metadata": {},
     "output_type": "execute_result"
    }
   ],
   "source": [
    "mlp_calibration_time = cap.stdout.split('\\n')[1]\n",
    "mlp_calibration_time"
   ]
  },
  {
   "cell_type": "markdown",
   "metadata": {},
   "source": [
    "##### Results on Training Set"
   ]
  },
  {
   "cell_type": "code",
   "execution_count": 18,
   "metadata": {},
   "outputs": [],
   "source": [
    "y_hat_train = model.apply(params, x_train, True, rngs={\n",
    "    \"dropout\": jax.random.PRNGKey(0)})"
   ]
  },
  {
   "cell_type": "code",
   "execution_count": 19,
   "metadata": {},
   "outputs": [],
   "source": [
    "train_mean = scaler_y.inverse_transform(y_hat_train[0])\n",
    "train_sigma = scaler_y.scale_*y_hat_train[1]\n",
    "y_train_scaled = scaler_y.inverse_transform(y_train)"
   ]
  },
  {
   "cell_type": "code",
   "execution_count": 20,
   "metadata": {},
   "outputs": [
    {
     "name": "stdout",
     "output_type": "stream",
     "text": [
      "RMSE : 89.6215 MAE  : 10.0386 NLL : 2.2867\n"
     ]
    }
   ],
   "source": [
    "print(f\"RMSE : {errors.rmse(y_train_scaled, train_mean):.4f} MAE  : {errors.mae(y_train_scaled, train_mean):.4f} NLL : {errors.NLL(train_mean,train_sigma,y_train_scaled):.4f}\")"
   ]
  },
  {
   "cell_type": "markdown",
   "metadata": {},
   "source": [
    "##### Results on Test Set"
   ]
  },
  {
   "cell_type": "code",
   "execution_count": 21,
   "metadata": {},
   "outputs": [],
   "source": [
    "%%capture cap\n",
    "%%time\n",
    "y_hat_test = model.apply(params, x_test, True, rngs={\n",
    "    \"dropout\": jax.random.PRNGKey(0)})"
   ]
  },
  {
   "cell_type": "code",
   "execution_count": 22,
   "metadata": {},
   "outputs": [],
   "source": [
    "test_mean = scaler_y.inverse_transform(y_hat_test[0])\n",
    "test_sigma = scaler_y.scale_*y_hat_test[1]"
   ]
  },
  {
   "cell_type": "code",
   "execution_count": 23,
   "metadata": {},
   "outputs": [
    {
     "name": "stdout",
     "output_type": "stream",
     "text": [
      "RMSE : 104.4222 MAE  : 11.8118 NLL : 55.4056\n"
     ]
    }
   ],
   "source": [
    "print(f\"RMSE : {errors.rmse(y_test, test_mean):.4f} MAE  : {errors.mae(y_test, test_mean):.4f} NLL : {errors.NLL(test_mean,test_sigma,y_test):.4f}\")"
   ]
  },
  {
   "cell_type": "code",
   "execution_count": 24,
   "metadata": {},
   "outputs": [
    {
     "data": {
      "text/plain": [
       "'Wall time: 1.04 s'"
      ]
     },
     "execution_count": 24,
     "metadata": {},
     "output_type": "execute_result"
    }
   ],
   "source": [
    "mlp_testing_time = cap.stdout.split('\\n')[1]\n",
    "mlp_testing_time"
   ]
  },
  {
   "cell_type": "markdown",
   "metadata": {},
   "source": [
    "# After Calibration"
   ]
  },
  {
   "cell_type": "markdown",
   "metadata": {},
   "source": [
    "### Conformal Prediction"
   ]
  },
  {
   "cell_type": "markdown",
   "metadata": {},
   "source": [
    "##### Results on Calibration Set"
   ]
  },
  {
   "cell_type": "code",
   "execution_count": 25,
   "metadata": {},
   "outputs": [
    {
     "name": "stdout",
     "output_type": "stream",
     "text": [
      "-----------\n",
      "[[6.691628 ]\n",
      " [9.304719 ]\n",
      " [5.6491985]\n",
      " ...\n",
      " [5.1013956]\n",
      " [2.2193274]\n",
      " [5.0920177]]\n",
      "[[6.691628 ]\n",
      " [9.304719 ]\n",
      " [5.6491985]\n",
      " ...\n",
      " [5.1013956]\n",
      " [2.2193274]\n",
      " [5.0920177]]\n",
      "0.0\n",
      "-----------\n",
      "-----------\n",
      "[[5.148981 ]\n",
      " [6.348553 ]\n",
      " [5.3326616]\n",
      " ...\n",
      " [3.6791377]\n",
      " [2.1524646]\n",
      " [4.7257485]]\n",
      "[[ 8.234275 ]\n",
      " [12.260885 ]\n",
      " [ 5.9657354]\n",
      " ...\n",
      " [ 6.5236535]\n",
      " [ 2.2861903]\n",
      " [ 5.458287 ]]\n",
      "0.08003679662942886\n",
      "-----------\n",
      "-----------\n",
      "[[3.5814817]\n",
      " [3.3447633]\n",
      " [5.0110254]\n",
      " ...\n",
      " [2.2339668]\n",
      " [2.0845249]\n",
      " [4.353579 ]]\n",
      "[[ 9.801774 ]\n",
      " [15.264675 ]\n",
      " [ 6.2873716]\n",
      " ...\n",
      " [ 7.9688244]\n",
      " [ 2.35413  ]\n",
      " [ 5.8304563]]\n",
      "0.24733866751194\n",
      "-----------\n",
      "-----------\n",
      "[[1.9613471 ]\n",
      " [0.24010849]\n",
      " [4.678589  ]\n",
      " ...\n",
      " [0.74026823]\n",
      " [2.0143034 ]\n",
      " [3.9689121 ]]\n",
      "[[11.421909 ]\n",
      " [18.36933  ]\n",
      " [ 6.619808 ]\n",
      " ...\n",
      " [ 9.4625225]\n",
      " [ 2.4243515]\n",
      " [ 6.215123 ]]\n",
      "0.43185698986053467\n",
      "-----------\n",
      "-----------\n",
      "[[ 0.25396872]\n",
      " [-3.0317316 ]\n",
      " [ 4.3282504 ]\n",
      " ...\n",
      " [-0.83386564]\n",
      " [ 1.9403008 ]\n",
      " [ 3.5635314 ]]\n",
      "[[13.129288 ]\n",
      " [21.64117  ]\n",
      " [ 6.9701467]\n",
      " ...\n",
      " [11.036657 ]\n",
      " [ 2.498354 ]\n",
      " [ 6.620504 ]]\n",
      "0.6103298664093018\n",
      "-----------\n",
      "-----------\n",
      "[[-1.5885606]\n",
      " [-6.562559 ]\n",
      " [ 3.9501805]\n",
      " ...\n",
      " [-2.5326028]\n",
      " [ 1.8604404]\n",
      " [ 3.1260617]]\n",
      "[[14.971817 ]\n",
      " [25.171997 ]\n",
      " [ 7.3482165]\n",
      " ...\n",
      " [12.735394 ]\n",
      " [ 2.5782146]\n",
      " [ 7.057974 ]]\n",
      "0.7821000814437866\n",
      "-----------\n",
      "-----------\n",
      "[[ -3.640304 ]\n",
      " [-10.494304 ]\n",
      " [  3.5291817]\n",
      " ...\n",
      " [ -4.4242277]\n",
      " [  1.7715118]\n",
      " [  2.6389184]]\n",
      "[[17.02356  ]\n",
      " [29.10374  ]\n",
      " [ 7.7692156]\n",
      " ...\n",
      " [14.627019 ]\n",
      " [ 2.667143 ]\n",
      " [ 7.545117 ]]\n",
      "0.885267436504364\n",
      "-----------\n",
      "-----------\n",
      "[[ -6.031862 ]\n",
      " [-15.077233 ]\n",
      " [  3.0384562]\n",
      " ...\n",
      " [ -6.6291466]\n",
      " [  1.6678549]\n",
      " [  2.0710936]]\n",
      "[[19.415117]\n",
      " [33.686672]\n",
      " [ 8.259941]\n",
      " ...\n",
      " [16.831938]\n",
      " [ 2.7708  ]\n",
      " [ 8.112942]]\n",
      "0.9281114339828491\n",
      "-----------\n",
      "-----------\n",
      "[[ -9.040989 ]\n",
      " [-20.843605 ]\n",
      " [  2.4210112]\n",
      " ...\n",
      " [ -9.4034395]\n",
      " [  1.5374308]\n",
      " [  1.3566399]]\n",
      "[[22.424246 ]\n",
      " [39.453045 ]\n",
      " [ 8.877386 ]\n",
      " ...\n",
      " [19.606232 ]\n",
      " [ 2.9012241]\n",
      " [ 8.827395 ]]\n",
      "0.9515047669410706\n",
      "-----------\n",
      "-----------\n",
      "[[-13.500967  ]\n",
      " [-29.390236  ]\n",
      " [  1.5058651 ]\n",
      " ...\n",
      " [-13.515359  ]\n",
      " [  1.3441224 ]\n",
      " [  0.29771233]]\n",
      "[[26.884222 ]\n",
      " [47.999672 ]\n",
      " [ 9.792532 ]\n",
      " ...\n",
      " [23.718151 ]\n",
      " [ 3.0945325]\n",
      " [ 9.886323 ]]\n",
      "0.9680640697479248\n",
      "-----------\n",
      "-----------\n",
      "[[-inf]\n",
      " [-inf]\n",
      " [-inf]\n",
      " ...\n",
      " [-inf]\n",
      " [-inf]\n",
      " [-inf]]\n",
      "[[inf]\n",
      " [inf]\n",
      " [inf]\n",
      " ...\n",
      " [inf]\n",
      " [inf]\n",
      " [inf]]\n",
      "0.9999999403953552\n",
      "-----------\n"
     ]
    }
   ],
   "source": [
    "ci = np.array([0, 0.1, 0.2, 0.3, 0.4, 0.5, 0.6, 0.7, 0.8, 0.9, 1])\n",
    "initial_coverages_cal, _, _ = find_coverage_calib(\n",
    "    y_true_cal, cal_mean, cal_sigma, ci)"
   ]
  },
  {
   "cell_type": "code",
   "execution_count": 26,
   "metadata": {},
   "outputs": [
    {
     "data": {
      "text/plain": [
       "array([0.        , 0.0800368 , 0.24733867, 0.43185699, 0.61032987,\n",
       "       0.78210008, 0.88526744, 0.92811143, 0.95150477, 0.96806407,\n",
       "       0.99999994])"
      ]
     },
     "execution_count": 26,
     "metadata": {},
     "output_type": "execute_result"
    }
   ],
   "source": [
    "initial_coverages_cal"
   ]
  },
  {
   "cell_type": "code",
   "execution_count": 27,
   "metadata": {},
   "outputs": [],
   "source": [
    "%%capture cap\n",
    "%%time\n",
    "flag = True\n",
    "final_coverages_cal, q_hats, times = find_coverage_calib(\n",
    "    y_true_cal, cal_mean, cal_sigma, ci, flag=flag)"
   ]
  },
  {
   "cell_type": "code",
   "execution_count": 28,
   "metadata": {},
   "outputs": [
    {
     "data": {
      "text/plain": [
       "array([0.        , 0.10014456, 0.2001577 , 0.30017084, 0.40018398,\n",
       "       0.50019711, 0.60021025, 0.70022339, 0.80023652, 0.90024966,\n",
       "       1.        ])"
      ]
     },
     "execution_count": 28,
     "metadata": {},
     "output_type": "execute_result"
    }
   ],
   "source": [
    "final_coverages_cal"
   ]
  },
  {
   "cell_type": "code",
   "execution_count": 29,
   "metadata": {},
   "outputs": [
    {
     "data": {
      "text/plain": [
       "[0,\n",
       " 0.06416559,\n",
       " -0.14720869,\n",
       " -0.34391737,\n",
       " -0.32999802,\n",
       " -0.2930355,\n",
       " -0.27289903,\n",
       " -0.32816768,\n",
       " -0.41384888,\n",
       " -0.5534526,\n",
       " 0]"
      ]
     },
     "execution_count": 29,
     "metadata": {},
     "output_type": "execute_result"
    }
   ],
   "source": [
    "q_hats"
   ]
  },
  {
   "cell_type": "code",
   "execution_count": 30,
   "metadata": {},
   "outputs": [
    {
     "data": {
      "text/plain": [
       "'Wall time: 100 ms'"
      ]
     },
     "execution_count": 30,
     "metadata": {},
     "output_type": "execute_result"
    }
   ],
   "source": [
    "conformal = cap.stdout.split('\\n')[1]\n",
    "conformal"
   ]
  },
  {
   "cell_type": "code",
   "execution_count": 31,
   "metadata": {},
   "outputs": [],
   "source": [
    "ace_init_cal, ece_init_cal = calib_errors(ci, initial_coverages_cal)\n",
    "ace_fin_cal, ece_fin_cal = calib_errors(ci, final_coverages_cal)"
   ]
  },
  {
   "cell_type": "code",
   "execution_count": 32,
   "metadata": {},
   "outputs": [
    {
     "name": "stdout",
     "output_type": "stream",
     "text": [
      "Calibration:\n",
      "Initial ace error is 1.4245365753769872 and ece error is 0.12950332503427156\n",
      "Final ace error is 0.0017740055918693265 and ece error is 0.00016127323562448422\n"
     ]
    }
   ],
   "source": [
    "print('Calibration:')\n",
    "print(f'Initial ace error is {ace_init_cal} and ece error is {ece_init_cal}')\n",
    "print(f'Final ace error is {ace_fin_cal} and ece error is {ece_fin_cal}')"
   ]
  },
  {
   "cell_type": "markdown",
   "metadata": {},
   "source": [
    "##### Results on Training Set"
   ]
  },
  {
   "cell_type": "code",
   "execution_count": 33,
   "metadata": {},
   "outputs": [
    {
     "data": {
      "text/plain": [
       "array([0.        , 0.08025584, 0.24133702, 0.42489159, 0.61466688,\n",
       "       0.78836471, 0.88942921, 0.93569022, 0.95588559, 0.9722259 ,\n",
       "       1.        ])"
      ]
     },
     "execution_count": 33,
     "metadata": {},
     "output_type": "execute_result"
    }
   ],
   "source": [
    "ci = np.array([0, 0.1, 0.2, 0.3, 0.4, 0.5, 0.6, 0.7, 0.8, 0.9, 1])\n",
    "initial_coverages_train, _ = find_coverage_train_test(\n",
    "    y_train_scaled, train_mean, train_sigma, ci, [])\n",
    "initial_coverages_train"
   ]
  },
  {
   "cell_type": "code",
   "execution_count": 34,
   "metadata": {},
   "outputs": [
    {
     "data": {
      "text/plain": [
       "[0,\n",
       " 0.06416559,\n",
       " -0.14720869,\n",
       " -0.34391737,\n",
       " -0.32999802,\n",
       " -0.2930355,\n",
       " -0.27289903,\n",
       " -0.32816768,\n",
       " -0.41384888,\n",
       " -0.5534526,\n",
       " 0]"
      ]
     },
     "execution_count": 34,
     "metadata": {},
     "output_type": "execute_result"
    }
   ],
   "source": [
    "q_hats"
   ]
  },
  {
   "cell_type": "code",
   "execution_count": 35,
   "metadata": {},
   "outputs": [
    {
     "name": "stdout",
     "output_type": "stream",
     "text": [
      "[0.         0.09996933 0.19424367 0.29600912 0.39602226 0.49936479\n",
      " 0.60275114 0.70131862 0.80527449 0.90699613 1.        ]\n"
     ]
    }
   ],
   "source": [
    "flag = True\n",
    "final_coverages_train, q_hats = find_coverage_train_test(\n",
    "    y_train_scaled, train_mean, train_sigma, ci, q_hats, flag=flag)\n",
    "print(final_coverages_train)"
   ]
  },
  {
   "cell_type": "code",
   "execution_count": 36,
   "metadata": {},
   "outputs": [],
   "source": [
    "ace_init_train, ece_init_train = calib_errors(ci, initial_coverages_train)\n",
    "ace_fin_train, ece_fin_train = calib_errors(ci, final_coverages_train)"
   ]
  },
  {
   "cell_type": "code",
   "execution_count": 37,
   "metadata": {},
   "outputs": [
    {
     "name": "stdout",
     "output_type": "stream",
     "text": [
      "Train:\n",
      "Initial ace error is 1.4422352805733678 and ece error is 0.13111229823394252\n",
      "Final ace error is 0.03073119372129443 and ece error is 0.002793744883754039\n"
     ]
    }
   ],
   "source": [
    "print('Train:')\n",
    "print(\n",
    "    f'Initial ace error is {ace_init_train} and ece error is {ece_init_train}')\n",
    "print(f'Final ace error is {ace_fin_train} and ece error is {ece_fin_train}')"
   ]
  },
  {
   "cell_type": "markdown",
   "metadata": {},
   "source": [
    "##### Results on Test Set"
   ]
  },
  {
   "cell_type": "code",
   "execution_count": 38,
   "metadata": {},
   "outputs": [
    {
     "data": {
      "text/plain": [
       "array([0.        , 0.20793055, 0.54113233, 0.75064111, 0.81692642,\n",
       "       0.85953838, 0.88834089, 0.91073185, 0.94032353, 0.97169065,\n",
       "       1.        ])"
      ]
     },
     "execution_count": 38,
     "metadata": {},
     "output_type": "execute_result"
    }
   ],
   "source": [
    "ci = np.array([0, 0.1, 0.2, 0.3, 0.4, 0.5, 0.6, 0.7, 0.8, 0.9, 1])\n",
    "initial_coverages_test, _ = find_coverage_train_test(\n",
    "    y_test, test_mean, test_sigma, ci, [])\n",
    "initial_coverages_test"
   ]
  },
  {
   "cell_type": "code",
   "execution_count": 39,
   "metadata": {},
   "outputs": [
    {
     "data": {
      "text/plain": [
       "[0,\n",
       " 0.06416559,\n",
       " -0.14720869,\n",
       " -0.34391737,\n",
       " -0.32999802,\n",
       " -0.2930355,\n",
       " -0.27289903,\n",
       " -0.32816768,\n",
       " -0.41384888,\n",
       " -0.5534526,\n",
       " 0]"
      ]
     },
     "execution_count": 39,
     "metadata": {},
     "output_type": "execute_result"
    }
   ],
   "source": [
    "q_hats"
   ]
  },
  {
   "cell_type": "code",
   "execution_count": 40,
   "metadata": {},
   "outputs": [
    {
     "name": "stdout",
     "output_type": "stream",
     "text": [
      "[0.         0.24501874 0.45492205 0.61915565 0.73042017 0.80311698\n",
      " 0.84207928 0.86220157 0.88054842 0.90343261 1.        ]\n"
     ]
    }
   ],
   "source": [
    "flag = True\n",
    "final_coverages_test, q_hats = find_coverage_train_test(\n",
    "    y_test, test_mean, test_sigma, ci, q_hats, flag=flag)\n",
    "print(final_coverages_test)"
   ]
  },
  {
   "cell_type": "code",
   "execution_count": 41,
   "metadata": {},
   "outputs": [],
   "source": [
    "ace_init_test, ece_init_test = calib_errors(ci, initial_coverages_test)\n",
    "ace_fin_test, ece_fin_test = calib_errors(ci, final_coverages_test)"
   ]
  },
  {
   "cell_type": "code",
   "execution_count": 42,
   "metadata": {},
   "outputs": [
    {
     "name": "stdout",
     "output_type": "stream",
     "text": [
      "Initial ace error is 2.3872557133436207 and ece error is 0.2170232466676019\n",
      "Final ace error is 1.8408954590559006 and ece error is 0.1673541326414455\n"
     ]
    }
   ],
   "source": [
    "print(f'Initial ace error is {ace_init_test} and ece error is {ece_init_test}')\n",
    "print(f'Final ace error is {ace_fin_test} and ece error is {ece_fin_test}')"
   ]
  },
  {
   "cell_type": "markdown",
   "metadata": {},
   "source": [
    "##### Comparison of Results"
   ]
  },
  {
   "cell_type": "code",
   "execution_count": 43,
   "metadata": {},
   "outputs": [
    {
     "data": {
      "text/plain": [
       "{'text.usetex': True,\n",
       " 'font.family': 'serif',\n",
       " 'text.latex.preamble': '\\\\usepackage{times} ',\n",
       " 'figure.figsize': (3.25, 2.0086104634371584),\n",
       " 'figure.constrained_layout.use': True,\n",
       " 'figure.autolayout': False,\n",
       " 'savefig.bbox': 'tight',\n",
       " 'savefig.pad_inches': 0.015,\n",
       " 'font.size': 8,\n",
       " 'axes.labelsize': 8,\n",
       " 'legend.fontsize': 6,\n",
       " 'xtick.labelsize': 6,\n",
       " 'ytick.labelsize': 6,\n",
       " 'axes.titlesize': 8}"
      ]
     },
     "execution_count": 43,
     "metadata": {},
     "output_type": "execute_result"
    }
   ],
   "source": [
    "bundles.icml2022()"
   ]
  },
  {
   "cell_type": "code",
   "execution_count": 44,
   "metadata": {},
   "outputs": [
    {
     "data": {
      "text/plain": [
       "<matplotlib.legend.Legend at 0x7f605863dd10>"
      ]
     },
     "execution_count": 44,
     "metadata": {},
     "output_type": "execute_result"
    },
    {
     "data": {
      "image/png": "[encoded data removed]",
      "text/plain": [
       "<Figure size 900x200 with 3 Axes>"
      ]
     },
     "metadata": {},
     "output_type": "display_data"
    }
   ],
   "source": [
    "# Train\n",
    "plt.rcParams.update(bundles.icml2022())\n",
    "plt.rcParams.update({'figure.figsize': (9, 2)})\n",
    "plt.subplot(1, 3, 1)\n",
    "plt.plot(ci, initial_coverages_train, label='Uncalibrated', linestyle='--')\n",
    "plt.plot(ci, final_coverages_train, label='Calibrated', linestyle='--')\n",
    "plt.plot([0, 1], [0, 1], label=\"Ideal\", linestyle='--')\n",
    "plt.title(\n",
    "    f'Train:Before Calibration: {\"{:.4f}\".format(ece_init_train)}, After Calibration: {\"{:.4f}\".format(ece_fin_train)}')\n",
    "plt.legend()\n",
    "\n",
    "# Calibration\n",
    "plt.subplot(1, 3, 2)\n",
    "plt.plot(ci, initial_coverages_cal, label='Uncalibrated', linestyle='--')\n",
    "plt.plot(ci, final_coverages_cal, label='Calibrated', linestyle='--')\n",
    "plt.plot([0, 1], [0, 1], label=\"Ideal\", linestyle='--')\n",
    "plt.title(\n",
    "    f'Calibration:Before Calibration: {\"{:.4f}\".format(ece_init_cal)}, After Calibration: {\"{:.4f}\".format(ece_fin_cal)}')\n",
    "plt.legend()\n",
    "\n",
    "# Test\n",
    "plt.subplot(1, 3, 3)\n",
    "plt.plot(ci, initial_coverages_test, label='Uncalibrated', linestyle='--')\n",
    "plt.plot(ci, final_coverages_test, label='Calibrated', linestyle='--')\n",
    "plt.plot([0, 1], [0, 1], label=\"Ideal\", linestyle='--')\n",
    "plt.title(\n",
    "    f'Test:Before Calibration: {\"{:.4f}\".format(ece_init_test)}, After Calibration: {\"{:.4f}\".format(ece_fin_test)}')\n",
    "plt.legend()\n",
    "# plt.savefig(\n",
    "#     f'/home/haikoo.khandor/haikoo/conformal/con_figures/{appliances[0]}_S2P_Hetero_Conformal_Conformal.pdf')"
   ]
  }
 ],
 "metadata": {
  "kernelspec": {
   "display_name": "personal",
   "language": "python",
   "name": "python3"
  },
  "language_info": {
   "codemirror_mode": {
    "name": "ipython",
    "version": 3
   },
   "file_extension": ".py",
   "mimetype": "text/x-python",
   "name": "python",
   "nbconvert_exporter": "python",
   "pygments_lexer": "ipython3",
   "version": "3.11.5"
  },
  "orig_nbformat": 4
 },
 "nbformat": 4,
 "nbformat_minor": 2
}
