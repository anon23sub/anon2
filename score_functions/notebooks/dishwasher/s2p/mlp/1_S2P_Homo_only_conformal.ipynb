{
 "cells": [
  {
   "cell_type": "code",
   "execution_count": 1,
   "metadata": {
    "id": "up9lgeK2Tzt_"
   },
   "outputs": [],
   "source": [
    "import os\n",
    "os.chdir(\"../../../../\")"
   ]
  },
  {
   "cell_type": "code",
   "execution_count": 2,
   "metadata": {},
   "outputs": [],
   "source": [
    "os.environ['CUDA_VISIBLE_DEVICES'] = str(0)"
   ]
  },
  {
   "cell_type": "code",
   "execution_count": 3,
   "metadata": {},
   "outputs": [],
   "source": [
    "import jax\n",
    "import jax.numpy as jnp\n",
    "import scipy.stats as st\n",
    "import numpy as np\n",
    "import flax.linen as nn\n",
    "import optax\n",
    "import pandas as pd\n",
    "from functools import partial\n",
    "from sklearn.preprocessing import StandardScaler\n",
    "import matplotlib.pyplot as plt\n",
    "import seaborn as sns\n",
    "from utilities.fits import fit\n",
    "from datasets.dataset_loader import dataset_load\n",
    "from utilities import plot, gmm, errors, predict, preprocess\n",
    "from utilities.recalibration_conformal import *\n",
    "from models import seq2point\n",
    "from sklearn.isotonic import IsotonicRegression\n",
    "from tueplots import bundles\n",
    "os.environ[\"XLA_FLAGS\"] = \"--xla_gpu_deterministic_reductions --xla_gpu_autotune_level=2\"\n",
    "os.environ['TF_CUDNN_DETERMINISTIC'] = '1'"
   ]
  },
  {
   "cell_type": "code",
   "execution_count": 4,
   "metadata": {},
   "outputs": [],
   "source": [
    "from jax.flatten_util import ravel_pytree"
   ]
  },
  {
   "cell_type": "code",
   "execution_count": 5,
   "metadata": {},
   "outputs": [],
   "source": [
    "import tensorflow_probability.substrates.jax as tfp\n",
    "tfd = tfp.distributions"
   ]
  },
  {
   "cell_type": "code",
   "execution_count": 6,
   "metadata": {
    "id": "8ichcOwKGqnT"
   },
   "outputs": [],
   "source": [
    "train = {\n",
    "    1: {\n",
    "        'start_time': \"2011-04-28\",\n",
    "        'end_time': \"2011-05-15\"\n",
    "    },\n",
    "    3: {\n",
    "        'start_time': \"2011-04-19\",\n",
    "        'end_time': \"2011-05-22\"\n",
    "    }\n",
    "}\n",
    "test = {\n",
    "    2: {\n",
    "        'start_time': \"2011-04-21\",\n",
    "        'end_time': \"2011-05-21\"\n",
    "    }\n",
    "}\n",
    "appliances = [\"Dish Washer\"]"
   ]
  },
  {
   "cell_type": "code",
   "execution_count": 7,
   "metadata": {
    "id": "zTOYe_obGeSM"
   },
   "outputs": [],
   "source": [
    "datas = dataset_load(appliances, train, test, 99, split_factor=0.25)\n",
    "x_train, y_train = datas[0], datas[1]\n",
    "x_cal, y_cal = datas[2], datas[3]\n",
    "x_test, y_test = datas[4], datas[5]\n",
    "x_test_timestamp = datas[6]\n",
    "scaler_x, scaler_y = datas[7], datas[8]"
   ]
  },
  {
   "cell_type": "code",
   "execution_count": 8,
   "metadata": {
    "id": "jcn8DcvETzuM"
   },
   "outputs": [],
   "source": [
    "training_predictions_df = pd.DataFrame()\n",
    "testing_predictions_df = pd.DataFrame()\n",
    "calibration_predictions_df = pd.DataFrame()\n",
    "training_predictions_df[\"Ground Truth\"] = scaler_y.inverse_transform(y_train)[\n",
    "    :, 0]\n",
    "calibration_predictions_df['Ground Truth'] = scaler_y.inverse_transform(y_cal)[\n",
    "    :, 0]\n",
    "testing_predictions_df[\"Timestamp\"] = x_test_timestamp\n",
    "testing_predictions_df[\"Ground Truth\"] = y_test"
   ]
  },
  {
   "cell_type": "code",
   "execution_count": 9,
   "metadata": {},
   "outputs": [],
   "source": [
    "def find_coverage_calib(y, y_noisy, ci):\n",
    "    alpha = 1 - ci                  # size = len(ci)\n",
    "    k = st.norm.ppf(1 - alpha / 2)  # size = len(ci)\n",
    "    q_hats = []\n",
    "    coverage = np.zeros(len(ci))\n",
    "    maes = []\n",
    "    for i in range(len(ci)):\n",
    "        if ci[i] == 0 or ci[i] == 1:\n",
    "            coverage[i] = ci[i]\n",
    "            q_hats.append(0)\n",
    "            continue\n",
    "        # E_i = []\n",
    "        # for j in range(len(y)):\n",
    "        #     # E_i.append(abs(y[j]-y_noisy[j] + keys[j]))\n",
    "        #     E_i.append(abs(y[j]-y_noisy[j]))\n",
    "        maes = abs(np.array(y).reshape(-1) -\n",
    "                   np.array(y_noisy).reshape(-1))**4/(y_noisy**3)\n",
    "        # E_i = maes\n",
    "        q_level = np.ceil((len(y)+1)*ci[i])/len(y)\n",
    "        # print(\"q_level: \", q_level)\n",
    "        q_hat = np.quantile(maes, q_level, method='higher')\n",
    "        q_hats.append(q_hat)\n",
    "        upper = y_noisy + q_hat\n",
    "        lower = y_noisy - q_hat\n",
    "        coverage[i] = np.sum((y >= lower) & (\n",
    "            y <= upper)) / len(y)\n",
    "    return coverage, q_hats, maes"
   ]
  },
  {
   "cell_type": "code",
   "execution_count": 10,
   "metadata": {},
   "outputs": [],
   "source": [
    "def find_coverage_train_test(y, y_noisy, ci, q_hats):\n",
    "    alpha = 1 - ci                  # size = len(ci)\n",
    "    k = st.norm.ppf(1 - alpha / 2)  # size = len(ci)\n",
    "    coverage = np.zeros(len(ci))\n",
    "    for i in range(len(ci)):\n",
    "        if ci[i] == 0 or ci[i] == 1:\n",
    "            coverage[i] = ci[i]\n",
    "            continue\n",
    "        upper = y_noisy + q_hats[i]\n",
    "        lower = y_noisy - q_hats[i]\n",
    "        coverage[i] = np.sum((y >= lower) & (\n",
    "            y <= upper)) / len(y)\n",
    "        # check if 0 is in ci array and if so, set coverage to 0 at that index\n",
    "\n",
    "    return coverage, q_hats"
   ]
  },
  {
   "cell_type": "code",
   "execution_count": 11,
   "metadata": {},
   "outputs": [],
   "source": [
    "def calib_errors(ci, coverages):\n",
    "    ece = 0.0\n",
    "    ace = 0.0\n",
    "    for i in range(len(ci)):\n",
    "        ace += abs(ci[i]-coverages[i])\n",
    "    ece = ace/len(ci)\n",
    "    return ace, ece"
   ]
  },
  {
   "cell_type": "markdown",
   "metadata": {},
   "source": [
    "## Seq2point"
   ]
  },
  {
   "cell_type": "code",
   "execution_count": 12,
   "metadata": {
    "id": "SNzk92svTzuS"
   },
   "outputs": [],
   "source": [
    "model = seq2point.seq2point()"
   ]
  },
  {
   "cell_type": "code",
   "execution_count": 13,
   "metadata": {
    "colab": {
     "base_uri": "https://localhost:8080/"
    },
    "id": "7uNrlYHRTzuX",
    "outputId": "b24c6fcf-fb07-42d7-da11-f408edac58fa"
   },
   "outputs": [],
   "source": [
    "%%capture cap --no-stderr\n",
    "%%time\n",
    "params =  model.init(jax.random.PRNGKey(0), x_train, True)\n",
    "params, losses = fit(model, params, x_train, y_train, False, batch_size=32, learning_rate=0.001, epochs=50)"
   ]
  },
  {
   "cell_type": "code",
   "execution_count": 14,
   "metadata": {},
   "outputs": [
    {
     "data": {
      "image/png": "[encoded data removed]",
      "text/plain": [
       "<Figure size 640x480 with 1 Axes>"
      ]
     },
     "metadata": {},
     "output_type": "display_data"
    }
   ],
   "source": [
    "plt.plot(losses)\n",
    "sns.despine()"
   ]
  },
  {
   "cell_type": "code",
   "execution_count": 15,
   "metadata": {},
   "outputs": [
    {
     "data": {
      "text/plain": [
       "'Wall time: 41.1 s'"
      ]
     },
     "execution_count": 15,
     "metadata": {},
     "output_type": "execute_result"
    }
   ],
   "source": [
    "mlp_training_time = cap.stdout.split('\\n')[1]\n",
    "mlp_training_time"
   ]
  },
  {
   "cell_type": "markdown",
   "metadata": {},
   "source": [
    "#### Calibration Results"
   ]
  },
  {
   "cell_type": "code",
   "execution_count": 16,
   "metadata": {},
   "outputs": [],
   "source": [
    "%%capture cap --no-stderr\n",
    "%%time\n",
    "y_hat_cal = model.apply(params, x_cal, True, rngs={\n",
    "                        \"dropout\": jax.random.PRNGKey(0)})"
   ]
  },
  {
   "cell_type": "code",
   "execution_count": 17,
   "metadata": {},
   "outputs": [],
   "source": [
    "y_hat_cal = scaler_y.inverse_transform(y_hat_cal)\n",
    "y_true_cal = scaler_y.inverse_transform(y_cal)"
   ]
  },
  {
   "cell_type": "code",
   "execution_count": 18,
   "metadata": {},
   "outputs": [
    {
     "name": "stdout",
     "output_type": "stream",
     "text": [
      "RMSE : 13.5703 MAE  : 1.9836\n"
     ]
    }
   ],
   "source": [
    "print(f\"RMSE : {errors.rmse(y_true_cal, y_hat_cal):.4f} MAE  : {errors.mae(y_true_cal, y_hat_cal):.4f}\")"
   ]
  },
  {
   "cell_type": "code",
   "execution_count": 19,
   "metadata": {},
   "outputs": [
    {
     "data": {
      "text/plain": [
       "'Wall time: 1.22 s'"
      ]
     },
     "execution_count": 19,
     "metadata": {},
     "output_type": "execute_result"
    }
   ],
   "source": [
    "mlp_calibration_time = cap.stdout.split('\\n')[1]\n",
    "mlp_calibration_time"
   ]
  },
  {
   "cell_type": "markdown",
   "metadata": {},
   "source": [
    "#### Training Results"
   ]
  },
  {
   "cell_type": "code",
   "execution_count": 20,
   "metadata": {},
   "outputs": [],
   "source": [
    "y_hat_train = model.apply(params, x_train, True, rngs={\n",
    "                          \"dropout\": jax.random.PRNGKey(0)})"
   ]
  },
  {
   "cell_type": "code",
   "execution_count": 21,
   "metadata": {},
   "outputs": [],
   "source": [
    "y_hat_train = scaler_y.inverse_transform(y_hat_train)\n",
    "y_true = scaler_y.inverse_transform(y_train)"
   ]
  },
  {
   "cell_type": "code",
   "execution_count": 22,
   "metadata": {},
   "outputs": [
    {
     "name": "stdout",
     "output_type": "stream",
     "text": [
      "RMSE : 9.6693 MAE  : 1.5558\n"
     ]
    }
   ],
   "source": [
    "print(f\"RMSE : {errors.rmse(y_true, y_hat_train):.4f} MAE  : {errors.mae(y_true, y_hat_train):.4f}\")"
   ]
  },
  {
   "cell_type": "markdown",
   "metadata": {},
   "source": [
    "#### Testing Results"
   ]
  },
  {
   "cell_type": "code",
   "execution_count": 23,
   "metadata": {},
   "outputs": [],
   "source": [
    "%%capture cap\n",
    "%%time\n",
    "y_hat_test = model.apply(params, x_test, True, rngs={\"dropout\":jax.random.PRNGKey(0)})\n",
    "y_hat_test = scaler_y.inverse_transform(y_hat_test)"
   ]
  },
  {
   "cell_type": "code",
   "execution_count": 24,
   "metadata": {},
   "outputs": [
    {
     "data": {
      "text/plain": [
       "'Wall time: 1.41 s'"
      ]
     },
     "execution_count": 24,
     "metadata": {},
     "output_type": "execute_result"
    }
   ],
   "source": [
    "mlp_testing_time = cap.stdout.split('\\n')[1]\n",
    "mlp_testing_time"
   ]
  },
  {
   "cell_type": "code",
   "execution_count": 25,
   "metadata": {},
   "outputs": [
    {
     "name": "stdout",
     "output_type": "stream",
     "text": [
      "RMSE : 88.8015\n",
      "MAE  : 12.9952\n"
     ]
    }
   ],
   "source": [
    "print(f\"RMSE : {errors.rmse(y_test, y_hat_test):.4f}\\nMAE  : {errors.mae(y_test,y_hat_test):.4f}\")"
   ]
  },
  {
   "cell_type": "markdown",
   "metadata": {},
   "source": [
    "#### Calibration"
   ]
  },
  {
   "cell_type": "markdown",
   "metadata": {},
   "source": [
    "#### Conformal"
   ]
  },
  {
   "cell_type": "code",
   "execution_count": 26,
   "metadata": {},
   "outputs": [],
   "source": [
    "%%capture cap\n",
    "%%time\n",
    "ci = np.array([0, 0.1, 0.2, 0.3, 0.4, 0.5, 0.6, 0.7, 0.8, 0.9, 1])\n",
    "# keys = jax.random.normal(jax.random.PRNGKey(0), shape = (len(y_hat_cal),))*0.01\n",
    "coverages_cal, q_hats, maes = find_coverage_calib(y_true_cal, y_hat_cal, ci)"
   ]
  },
  {
   "cell_type": "code",
   "execution_count": 27,
   "metadata": {},
   "outputs": [
    {
     "data": {
      "text/plain": [
       "array([0.        , 0.00481541, 0.00481541, 0.00481541, 0.00481541,\n",
       "       0.02311396, 0.55457464, 0.55457464, 0.55457464, 0.55457464,\n",
       "       1.        ])"
      ]
     },
     "execution_count": 27,
     "metadata": {},
     "output_type": "execute_result"
    }
   ],
   "source": [
    "coverages_cal"
   ]
  },
  {
   "cell_type": "code",
   "execution_count": 28,
   "metadata": {},
   "outputs": [],
   "source": [
    "maes = sorted(np.array(maes).reshape(-1))"
   ]
  },
  {
   "cell_type": "code",
   "execution_count": 29,
   "metadata": {},
   "outputs": [
    {
     "data": {
      "text/plain": [
       "[-8287294000000000.0,\n",
       " -3053677000000000.0,\n",
       " -1876458200000000.0,\n",
       " -1414676900000000.0,\n",
       " -1296096000000000.0,\n",
       " -1073625400000000.0,\n",
       " -1070409600000000.0,\n",
       " -1026389000000000.0,\n",
       " -868208400000000.0,\n",
       " -668836800000000.0,\n",
       " -591894100000000.0,\n",
       " -541200840000000.0,\n",
       " -540869330000000.0,\n",
       " -455718950000000.0,\n",
       " -422469420000000.0,\n",
       " -342172330000000.0,\n",
       " -339113640000000.0,\n",
       " -334061080000000.0,\n",
       " -265376920000000.0,\n",
       " -228783110000000.0,\n",
       " -200530400000000.0,\n",
       " -194240820000000.0,\n",
       " -183198610000000.0,\n",
       " -177365170000000.0,\n",
       " -172863520000000.0,\n",
       " -142948980000000.0,\n",
       " -125848250000000.0,\n",
       " -123211720000000.0,\n",
       " -99330550000000.0,\n",
       " -71267930000000.0,\n",
       " -62905676000000.0,\n",
       " -60013305000000.0,\n",
       " -59352598000000.0,\n",
       " -58801294000000.0,\n",
       " -58651595000000.0,\n",
       " -52673403000000.0,\n",
       " -51422340000000.0,\n",
       " -49483765000000.0,\n",
       " -48497790000000.0,\n",
       " -45157470000000.0,\n",
       " -35887980000000.0,\n",
       " -34549910000000.0,\n",
       " -32926824000000.0,\n",
       " -32367352000000.0,\n",
       " -28072544000000.0,\n",
       " -27602253000000.0,\n",
       " -26038686000000.0,\n",
       " -25487418000000.0,\n",
       " -25390312000000.0,\n",
       " -25287585000000.0,\n",
       " -24418753000000.0,\n",
       " -24402006000000.0,\n",
       " -22356584000000.0,\n",
       " -21453091000000.0,\n",
       " -20736080000000.0,\n",
       " -19705107000000.0,\n",
       " -19389863000000.0,\n",
       " -18519150000000.0,\n",
       " -18463680000000.0,\n",
       " -17704360000000.0,\n",
       " -15064817000000.0,\n",
       " -14975876000000.0,\n",
       " -13550360000000.0,\n",
       " -13492522000000.0,\n",
       " -12682789000000.0,\n",
       " -12225672000000.0,\n",
       " -12132776000000.0,\n",
       " -11550689000000.0,\n",
       " -11536882000000.0,\n",
       " -11411885000000.0,\n",
       " -10209683000000.0,\n",
       " -9835312000000.0,\n",
       " -9335267000000.0,\n",
       " -9329549000000.0,\n",
       " -9217354000000.0,\n",
       " -7860775300000.0,\n",
       " -7801191500000.0,\n",
       " -7698892500000.0,\n",
       " -7455486500000.0,\n",
       " -7287248000000.0,\n",
       " -5902189500000.0,\n",
       " -5849430000000.0,\n",
       " -5762277400000.0,\n",
       " -5620750600000.0,\n",
       " -5203569000000.0,\n",
       " -5149609000000.0,\n",
       " -4955487000000.0,\n",
       " -4681379600000.0,\n",
       " -4577532300000.0,\n",
       " -4265695800000.0,\n",
       " -4256162600000.0,\n",
       " -4252919000000.0,\n",
       " -4078017400000.0,\n",
       " -3946319400000.0,\n",
       " -3783705000000.0,\n",
       " -3458983500000.0,\n",
       " -3449539000000.0,\n",
       " -3438247400000.0,\n",
       " -3350493700000.0,\n",
       " -3160024300000.0,\n",
       " -3121316400000.0,\n",
       " -3059402700000.0,\n",
       " -2981753000000.0,\n",
       " -2816914800000.0,\n",
       " -2799938600000.0,\n",
       " -2657402200000.0,\n",
       " -2615375300000.0,\n",
       " -2509066000000.0,\n",
       " -2417291000000.0,\n",
       " -2351695400000.0,\n",
       " -2170778300000.0,\n",
       " -2150282700000.0,\n",
       " -2148965500000.0,\n",
       " -2141125200000.0,\n",
       " -2125300400000.0,\n",
       " -2048897400000.0,\n",
       " -1971752300000.0,\n",
       " -1917658300000.0,\n",
       " -1810648700000.0,\n",
       " -1806476400000.0,\n",
       " -1713369800000.0,\n",
       " -1678542600000.0,\n",
       " -1657462300000.0,\n",
       " -1597227800000.0,\n",
       " -1496400700000.0,\n",
       " -1491918500000.0,\n",
       " -1430563300000.0,\n",
       " -1359508700000.0,\n",
       " -1347356000000.0,\n",
       " -1327281200000.0,\n",
       " -1256466200000.0,\n",
       " -1229312800000.0,\n",
       " -1210093900000.0,\n",
       " -1198543900000.0,\n",
       " -1186546200000.0,\n",
       " -1085070900000.0,\n",
       " -1054387500000.0,\n",
       " -1035179850000.0,\n",
       " -1028407500000.0,\n",
       " -1023783200000.0,\n",
       " -1014273740000.0,\n",
       " -1011691500000.0,\n",
       " -992263600000.0,\n",
       " -988493640000.0,\n",
       " -941600800000.0,\n",
       " -932213300000.0,\n",
       " -908994100000.0,\n",
       " -886992800000.0,\n",
       " -853554000000.0,\n",
       " -836546800000.0,\n",
       " -824971760000.0,\n",
       " -807564740000.0,\n",
       " -802037700000.0,\n",
       " -796741300000.0,\n",
       " -778929050000.0,\n",
       " -771751740000.0,\n",
       " -754316500000.0,\n",
       " -753854400000.0,\n",
       " -753782000000.0,\n",
       " -736181400000.0,\n",
       " -727879100000.0,\n",
       " -720131260000.0,\n",
       " -704701900000.0,\n",
       " -686816100000.0,\n",
       " -635173300000.0,\n",
       " -634481000000.0,\n",
       " -619038000000.0,\n",
       " -595957400000.0,\n",
       " -592373800000.0,\n",
       " -588830600000.0,\n",
       " -551194700000.0,\n",
       " -501458200000.0,\n",
       " -500016450000.0,\n",
       " -489541070000.0,\n",
       " -484228170000.0,\n",
       " -476913930000.0,\n",
       " -476116060000.0,\n",
       " -472650740000.0,\n",
       " -465608570000.0,\n",
       " -449145800000.0,\n",
       " -446614600000.0,\n",
       " -439636920000.0,\n",
       " -437961850000.0,\n",
       " -436189920000.0,\n",
       " -421203300000.0,\n",
       " -394657100000.0,\n",
       " -370048070000.0,\n",
       " -369877780000.0,\n",
       " -357680220000.0,\n",
       " -346958200000.0,\n",
       " -339896800000.0,\n",
       " -334459100000.0,\n",
       " -323823340000.0,\n",
       " -318874000000.0,\n",
       " -303461920000.0,\n",
       " -294053800000.0,\n",
       " -283159560000.0,\n",
       " -279495840000.0,\n",
       " -273733190000.0,\n",
       " -270729530000.0,\n",
       " -268824070000.0,\n",
       " -259855630000.0,\n",
       " -255339070000.0,\n",
       " -249934920000.0,\n",
       " -247208540000.0,\n",
       " -240934220000.0,\n",
       " -238443040000.0,\n",
       " -235817930000.0,\n",
       " -233732500000.0,\n",
       " -233627520000.0,\n",
       " -233032730000.0,\n",
       " -232734850000.0,\n",
       " -224556400000.0,\n",
       " -218767620000.0,\n",
       " -213202830000.0,\n",
       " -210882720000.0,\n",
       " -204309660000.0,\n",
       " -202739700000.0,\n",
       " -196845580000.0,\n",
       " -196607380000.0,\n",
       " -192689950000.0,\n",
       " -179418300000.0,\n",
       " -175405140000.0,\n",
       " -171730390000.0,\n",
       " -169651000000.0,\n",
       " -165668270000.0,\n",
       " -160735310000.0,\n",
       " -158991750000.0,\n",
       " -158164960000.0,\n",
       " -153990900000.0,\n",
       " -147262180000.0,\n",
       " -142589030000.0,\n",
       " -138445210000.0,\n",
       " -137272650000.0,\n",
       " -134564100000.0,\n",
       " -132799530000.0,\n",
       " -121985120000.0,\n",
       " -121619740000.0,\n",
       " -120431300000.0,\n",
       " -119321440000.0,\n",
       " -119138310000.0,\n",
       " -116618125000.0,\n",
       " -111818730000.0,\n",
       " -111536980000.0,\n",
       " -110385370000.0,\n",
       " -109668430000.0,\n",
       " -103456110000.0,\n",
       " -101265830000.0,\n",
       " -100880010000.0,\n",
       " -100864380000.0,\n",
       " -100471860000.0,\n",
       " -100381920000.0,\n",
       " -100183480000.0,\n",
       " -99332006000.0,\n",
       " -98645670000.0,\n",
       " -97019850000.0,\n",
       " -89757260000.0,\n",
       " -87676854000.0,\n",
       " -85478050000.0,\n",
       " -85236770000.0,\n",
       " -83645510000.0,\n",
       " -83290186000.0,\n",
       " -82724635000.0,\n",
       " -82565230000.0,\n",
       " -82387960000.0,\n",
       " -81956230000.0,\n",
       " -81747580000.0,\n",
       " -80749930000.0,\n",
       " -78291730000.0,\n",
       " -77039215000.0,\n",
       " -75993110000.0,\n",
       " -73690374000.0,\n",
       " -73322000000.0,\n",
       " -71671570000.0,\n",
       " -68969620000.0,\n",
       " -68711640000.0,\n",
       " -67595390000.0,\n",
       " -67250890000.0,\n",
       " -65265783000.0,\n",
       " -62939710000.0,\n",
       " -61980287000.0,\n",
       " -61491140000.0,\n",
       " -61453470000.0,\n",
       " -60638860000.0,\n",
       " -59855073000.0,\n",
       " -59306926000.0,\n",
       " -58280150000.0,\n",
       " -56742100000.0,\n",
       " -55278040000.0,\n",
       " -53840126000.0,\n",
       " -53837877000.0,\n",
       " -53608080000.0,\n",
       " -52956350000.0,\n",
       " -51802255000.0,\n",
       " -51778703000.0,\n",
       " -50644530000.0,\n",
       " -50390870000.0,\n",
       " -50020053000.0,\n",
       " -48589450000.0,\n",
       " -48574665000.0,\n",
       " -48296624000.0,\n",
       " -48155070000.0,\n",
       " -48000897000.0,\n",
       " -47460094000.0,\n",
       " -46727434000.0,\n",
       " -45341350000.0,\n",
       " -44376160000.0,\n",
       " -43279310000.0,\n",
       " -42810655000.0,\n",
       " -41951564000.0,\n",
       " -41825910000.0,\n",
       " -41696272000.0,\n",
       " -40105816000.0,\n",
       " -39313727000.0,\n",
       " -39195970000.0,\n",
       " -39127030000.0,\n",
       " -39077360000.0,\n",
       " -38877557000.0,\n",
       " -38530028000.0,\n",
       " -38471545000.0,\n",
       " -37955957000.0,\n",
       " -37636248000.0,\n",
       " -37584036000.0,\n",
       " -36932640000.0,\n",
       " -36622115000.0,\n",
       " -36292272000.0,\n",
       " -36048654000.0,\n",
       " -35812647000.0,\n",
       " -35523930000.0,\n",
       " -35462350000.0,\n",
       " -35388580000.0,\n",
       " -35356127000.0,\n",
       " -35341787000.0,\n",
       " -35245400000.0,\n",
       " -34867530000.0,\n",
       " -34034440000.0,\n",
       " -33924960000.0,\n",
       " -33902107000.0,\n",
       " -33078020000.0,\n",
       " -32692775000.0,\n",
       " -31791820000.0,\n",
       " -30995456000.0,\n",
       " -30808973000.0,\n",
       " -30690515000.0,\n",
       " -30589004000.0,\n",
       " -30152075000.0,\n",
       " -29950054000.0,\n",
       " -29900952000.0,\n",
       " -28901591000.0,\n",
       " -28677327000.0,\n",
       " -28589855000.0,\n",
       " -27550860000.0,\n",
       " -27464638000.0,\n",
       " -27268766000.0,\n",
       " -27133954000.0,\n",
       " -27025258000.0,\n",
       " -26999441000.0,\n",
       " -26286911000.0,\n",
       " -26134581000.0,\n",
       " -25994295000.0,\n",
       " -24736300000.0,\n",
       " -24491289000.0,\n",
       " -24117006000.0,\n",
       " -24083493000.0,\n",
       " -23963484000.0,\n",
       " -23128068000.0,\n",
       " -22784227000.0,\n",
       " -22543466000.0,\n",
       " -22186754000.0,\n",
       " -22091991000.0,\n",
       " -22069606000.0,\n",
       " -21673818000.0,\n",
       " -21673003000.0,\n",
       " -21147249000.0,\n",
       " -21134293000.0,\n",
       " -20997083000.0,\n",
       " -20814991000.0,\n",
       " -20674662000.0,\n",
       " -20673892000.0,\n",
       " -20558141000.0,\n",
       " -20490396000.0,\n",
       " -20466942000.0,\n",
       " -20429021000.0,\n",
       " -20152200000.0,\n",
       " -19949642000.0,\n",
       " -19889887000.0,\n",
       " -19817548000.0,\n",
       " -19805407000.0,\n",
       " -19688989000.0,\n",
       " -19640721000.0,\n",
       " -19588876000.0,\n",
       " -19550536000.0,\n",
       " -19071916000.0,\n",
       " -18886259000.0,\n",
       " -18859057000.0,\n",
       " -18834920000.0,\n",
       " -18805647000.0,\n",
       " -18738230000.0,\n",
       " -18599916000.0,\n",
       " -17876115000.0,\n",
       " -17865167000.0,\n",
       " -17807071000.0,\n",
       " -17739180000.0,\n",
       " -17677054000.0,\n",
       " -17115726000.0,\n",
       " -17050699000.0,\n",
       " -17039931000.0,\n",
       " -16687395000.0,\n",
       " -16569961000.0,\n",
       " -16507856000.0,\n",
       " -16132671000.0,\n",
       " -15905690000.0,\n",
       " -15601968000.0,\n",
       " -15555236000.0,\n",
       " -15469872000.0,\n",
       " -15052610000.0,\n",
       " -15033301000.0,\n",
       " -14915527000.0,\n",
       " -14298854000.0,\n",
       " -14217993000.0,\n",
       " -13999293000.0,\n",
       " -13954361000.0,\n",
       " -13929824000.0,\n",
       " -13834487000.0,\n",
       " -13708289000.0,\n",
       " -13660740000.0,\n",
       " -13370273000.0,\n",
       " -13250755000.0,\n",
       " -13053328000.0,\n",
       " -13026215000.0,\n",
       " -13002117000.0,\n",
       " -12846991000.0,\n",
       " -12764909000.0,\n",
       " -12698521000.0,\n",
       " -12616839000.0,\n",
       " -12529575000.0,\n",
       " -12429038000.0,\n",
       " -12428036000.0,\n",
       " -12421669000.0,\n",
       " -12417572000.0,\n",
       " -12401519000.0,\n",
       " -12232559000.0,\n",
       " -11921272000.0,\n",
       " -11746733000.0,\n",
       " -11628844000.0,\n",
       " -11302111000.0,\n",
       " -11296438000.0,\n",
       " -11285919000.0,\n",
       " -11201081000.0,\n",
       " -11192080000.0,\n",
       " -11124631000.0,\n",
       " -11034193000.0,\n",
       " -10998318000.0,\n",
       " -10944273000.0,\n",
       " -10882693000.0,\n",
       " -10873167000.0,\n",
       " -10790309000.0,\n",
       " -10757988000.0,\n",
       " -10730584000.0,\n",
       " -10369517000.0,\n",
       " -10328946000.0,\n",
       " -10322619000.0,\n",
       " -10315566000.0,\n",
       " -10217958000.0,\n",
       " -10056360000.0,\n",
       " -10050200000.0,\n",
       " -9968944000.0,\n",
       " -9937479000.0,\n",
       " -9719564000.0,\n",
       " -9717501000.0,\n",
       " -9604307000.0,\n",
       " -9507653000.0,\n",
       " -8939626000.0,\n",
       " -8886562000.0,\n",
       " -8765523000.0,\n",
       " -8725796000.0,\n",
       " -8697504000.0,\n",
       " -8649739000.0,\n",
       " -8601428000.0,\n",
       " -8507053600.0,\n",
       " -8467972000.0,\n",
       " -8377519000.0,\n",
       " -8140616700.0,\n",
       " -8097448400.0,\n",
       " -8062929000.0,\n",
       " -7864752600.0,\n",
       " -7859935000.0,\n",
       " -7850144000.0,\n",
       " -7835660300.0,\n",
       " -7703732700.0,\n",
       " -7619181600.0,\n",
       " -7589897000.0,\n",
       " -7556813000.0,\n",
       " -7342969000.0,\n",
       " -7252645400.0,\n",
       " -7158426000.0,\n",
       " -7147331000.0,\n",
       " -7112658400.0,\n",
       " -6930487000.0,\n",
       " -6910071300.0,\n",
       " -6906872300.0,\n",
       " -6818700300.0,\n",
       " -6754586600.0,\n",
       " -6743631000.0,\n",
       " -6722042400.0,\n",
       " -6708317000.0,\n",
       " -6680992300.0,\n",
       " -6663983000.0,\n",
       " -6623612400.0,\n",
       " -6622526500.0,\n",
       " -6585379000.0,\n",
       " -6530439700.0,\n",
       " -6524826600.0,\n",
       " -6494711000.0,\n",
       " -6472063500.0,\n",
       " -6415865000.0,\n",
       " -6375634400.0,\n",
       " -6358098000.0,\n",
       " -6346057000.0,\n",
       " -6329870300.0,\n",
       " -6301262300.0,\n",
       " -6232078300.0,\n",
       " -6207378000.0,\n",
       " -6139343000.0,\n",
       " -6051135000.0,\n",
       " -5948740600.0,\n",
       " -5858454500.0,\n",
       " -5842596400.0,\n",
       " -5709763000.0,\n",
       " -5622336000.0,\n",
       " -5510310000.0,\n",
       " -5492687400.0,\n",
       " -5460715500.0,\n",
       " -5439256600.0,\n",
       " -5435924500.0,\n",
       " -5273663000.0,\n",
       " -5130784000.0,\n",
       " -5072185000.0,\n",
       " -5064781300.0,\n",
       " -4992153000.0,\n",
       " -4972462000.0,\n",
       " -4931118600.0,\n",
       " -4928013000.0,\n",
       " -4917479400.0,\n",
       " -4854589000.0,\n",
       " -4814458400.0,\n",
       " -4792170500.0,\n",
       " -4762018300.0,\n",
       " -4714349600.0,\n",
       " -4636993000.0,\n",
       " -4608277500.0,\n",
       " -4580134000.0,\n",
       " -4579814400.0,\n",
       " -4540971500.0,\n",
       " -4511734000.0,\n",
       " -4366380000.0,\n",
       " -4350437400.0,\n",
       " -4328400400.0,\n",
       " -4251148500.0,\n",
       " -4245964300.0,\n",
       " -4156826400.0,\n",
       " -4116877000.0,\n",
       " -4086037500.0,\n",
       " -4077585700.0,\n",
       " -4069740800.0,\n",
       " -3955299000.0,\n",
       " -3942431500.0,\n",
       " -3927453000.0,\n",
       " -3926167600.0,\n",
       " -3925554400.0,\n",
       " -3902506200.0,\n",
       " -3881309000.0,\n",
       " -3873412400.0,\n",
       " -3856468000.0,\n",
       " -3827170000.0,\n",
       " -3771793000.0,\n",
       " -3726169000.0,\n",
       " -3707132200.0,\n",
       " -3643552000.0,\n",
       " -3637259500.0,\n",
       " -3609299000.0,\n",
       " -3573811000.0,\n",
       " -3497093000.0,\n",
       " -3497092000.0,\n",
       " -3496388600.0,\n",
       " -3438950700.0,\n",
       " -3408209700.0,\n",
       " -3404117000.0,\n",
       " -3385056300.0,\n",
       " -3369179000.0,\n",
       " -3357843700.0,\n",
       " -3357429800.0,\n",
       " -3324685600.0,\n",
       " -3299141400.0,\n",
       " -3295722800.0,\n",
       " -3280934100.0,\n",
       " -3254742500.0,\n",
       " -3212075300.0,\n",
       " -3208591600.0,\n",
       " -3189597200.0,\n",
       " -3186631700.0,\n",
       " -3136162800.0,\n",
       " -3124377000.0,\n",
       " -3115018800.0,\n",
       " -2994903800.0,\n",
       " -2986913500.0,\n",
       " -2984263700.0,\n",
       " -2958510600.0,\n",
       " -2924973600.0,\n",
       " -2914115800.0,\n",
       " -2895875800.0,\n",
       " -2884842200.0,\n",
       " -2873170700.0,\n",
       " -2861203700.0,\n",
       " -2857641000.0,\n",
       " -2855718100.0,\n",
       " -2822715600.0,\n",
       " -2814256400.0,\n",
       " -2784771000.0,\n",
       " -2774454300.0,\n",
       " -2672799200.0,\n",
       " -2667130000.0,\n",
       " -2662249500.0,\n",
       " -2659764700.0,\n",
       " -2644809500.0,\n",
       " -2609670000.0,\n",
       " -2577478000.0,\n",
       " -2536720000.0,\n",
       " -2526589200.0,\n",
       " -2520900600.0,\n",
       " -2512060000.0,\n",
       " -2458019000.0,\n",
       " -2437496300.0,\n",
       " -2401843700.0,\n",
       " -2356029400.0,\n",
       " -2354012700.0,\n",
       " -2353601500.0,\n",
       " -2351524900.0,\n",
       " -2345000400.0,\n",
       " -2338457600.0,\n",
       " -2319183600.0,\n",
       " -2310142700.0,\n",
       " -2303463200.0,\n",
       " -2299349800.0,\n",
       " -2297641500.0,\n",
       " -2291792100.0,\n",
       " -2289467000.0,\n",
       " -2238890500.0,\n",
       " -2226188800.0,\n",
       " -2203072500.0,\n",
       " -2197551000.0,\n",
       " -2189990000.0,\n",
       " -2173357600.0,\n",
       " -2162119700.0,\n",
       " -2153170200.0,\n",
       " -2147688400.0,\n",
       " -2121690400.0,\n",
       " -2077803800.0,\n",
       " -2055037300.0,\n",
       " -2028969300.0,\n",
       " -2015400200.0,\n",
       " -2009311200.0,\n",
       " -2005217900.0,\n",
       " -1992378500.0,\n",
       " -1982267400.0,\n",
       " -1978078600.0,\n",
       " -1960443900.0,\n",
       " -1952187800.0,\n",
       " -1946394400.0,\n",
       " -1943846300.0,\n",
       " -1942234200.0,\n",
       " -1937289500.0,\n",
       " -1933562000.0,\n",
       " -1904056400.0,\n",
       " -1895747000.0,\n",
       " -1895035500.0,\n",
       " -1882969500.0,\n",
       " -1845717100.0,\n",
       " -1841209600.0,\n",
       " -1837136800.0,\n",
       " -1828831900.0,\n",
       " -1811983200.0,\n",
       " -1790517800.0,\n",
       " -1782581600.0,\n",
       " -1775879200.0,\n",
       " -1774475500.0,\n",
       " -1764513700.0,\n",
       " -1751241000.0,\n",
       " -1737338500.0,\n",
       " -1731505000.0,\n",
       " -1728082300.0,\n",
       " -1725406700.0,\n",
       " -1722481800.0,\n",
       " -1711661700.0,\n",
       " -1698503800.0,\n",
       " -1675036800.0,\n",
       " -1673243400.0,\n",
       " -1670510000.0,\n",
       " -1663084300.0,\n",
       " -1653787800.0,\n",
       " -1653564300.0,\n",
       " -1634471800.0,\n",
       " -1610191600.0,\n",
       " -1605368600.0,\n",
       " -1601904600.0,\n",
       " -1574958600.0,\n",
       " -1573993900.0,\n",
       " -1539589400.0,\n",
       " -1539347800.0,\n",
       " -1533017900.0,\n",
       " -1521798400.0,\n",
       " -1517240200.0,\n",
       " -1491572400.0,\n",
       " -1454843600.0,\n",
       " -1443475600.0,\n",
       " -1441016000.0,\n",
       " -1433376800.0,\n",
       " -1424181900.0,\n",
       " -1402311200.0,\n",
       " -1389078500.0,\n",
       " -1382999900.0,\n",
       " -1377745500.0,\n",
       " -1360165200.0,\n",
       " -1350026500.0,\n",
       " -1326196200.0,\n",
       " -1324269700.0,\n",
       " -1314136400.0,\n",
       " -1302113200.0,\n",
       " -1296616200.0,\n",
       " -1271098000.0,\n",
       " -1265139300.0,\n",
       " -1264818700.0,\n",
       " -1238320600.0,\n",
       " -1230632300.0,\n",
       " -1229436000.0,\n",
       " -1200569700.0,\n",
       " -1185396700.0,\n",
       " -1168886000.0,\n",
       " -1168325500.0,\n",
       " -1145368000.0,\n",
       " -1141199600.0,\n",
       " -1132758400.0,\n",
       " -1125569900.0,\n",
       " -1122236700.0,\n",
       " -1119379600.0,\n",
       " -1117866400.0,\n",
       " -1117486300.0,\n",
       " -1115141200.0,\n",
       " -1102864300.0,\n",
       " -1096925600.0,\n",
       " -1092620200.0,\n",
       " -1089838500.0,\n",
       " -1078549100.0,\n",
       " -1068083600.0,\n",
       " -1050608450.0,\n",
       " -1047274100.0,\n",
       " -1045970200.0,\n",
       " -1035668350.0,\n",
       " -1028193660.0,\n",
       " -1027952900.0,\n",
       " -1026077060.0,\n",
       " -1017453250.0,\n",
       " -1010731900.0,\n",
       " -1003706600.0,\n",
       " -1003101630.0,\n",
       " -998306500.0,\n",
       " -995912640.0,\n",
       " -995762000.0,\n",
       " -992118140.0,\n",
       " -988104200.0,\n",
       " -986860800.0,\n",
       " -981407500.0,\n",
       " -972157250.0,\n",
       " -955507600.0,\n",
       " -954154900.0,\n",
       " -953477600.0,\n",
       " -948035300.0,\n",
       " -944409340.0,\n",
       " -933291500.0,\n",
       " -929735600.0,\n",
       " -927249200.0,\n",
       " -925974000.0,\n",
       " -925591800.0,\n",
       " -919485800.0,\n",
       " -916582340.0,\n",
       " -914147840.0,\n",
       " -913453250.0,\n",
       " -911715260.0,\n",
       " -901164900.0,\n",
       " -894159400.0,\n",
       " -892200700.0,\n",
       " -887705150.0,\n",
       " -886369900.0,\n",
       " -884328770.0,\n",
       " -874746700.0,\n",
       " -872115800.0,\n",
       " -863403400.0,\n",
       " -862514370.0,\n",
       " -861841000.0,\n",
       " -860069950.0,\n",
       " -854502850.0,\n",
       " -852327360.0,\n",
       " -841861300.0,\n",
       " -839096600.0,\n",
       " -838973630.0,\n",
       " -838653800.0,\n",
       " -838272600.0,\n",
       " -835260700.0,\n",
       " -825640450.0,\n",
       " -811677000.0,\n",
       " -811179800.0,\n",
       " -810255550.0,\n",
       " -806562800.0,\n",
       " -805519170.0,\n",
       " -785563600.0,\n",
       " -775163400.0,\n",
       " -772278300.0,\n",
       " -769970600.0,\n",
       " -768245700.0,\n",
       " -767119100.0,\n",
       " -766649200.0,\n",
       " -759308160.0,\n",
       " -757652600.0,\n",
       " -747271500.0,\n",
       " -721556300.0,\n",
       " -719100100.0,\n",
       " -716267400.0,\n",
       " -710187800.0,\n",
       " -710012800.0,\n",
       " -708605630.0,\n",
       " -704771900.0,\n",
       " -698923840.0,\n",
       " -684930600.0,\n",
       " -684922400.0,\n",
       " -683473800.0,\n",
       " -666854900.0,\n",
       " -665786000.0,\n",
       " -659393200.0,\n",
       " -658228160.0,\n",
       " -656230200.0,\n",
       " -650868800.0,\n",
       " -649194100.0,\n",
       " -645953800.0,\n",
       " -641991500.0,\n",
       " -640456200.0,\n",
       " -635772600.0,\n",
       " -633607100.0,\n",
       " -632223940.0,\n",
       " -622483800.0,\n",
       " -621809500.0,\n",
       " -620653800.0,\n",
       " -611596300.0,\n",
       " -603154560.0,\n",
       " -602364200.0,\n",
       " -598824600.0,\n",
       " -596514240.0,\n",
       " -595944770.0,\n",
       " -591228540.0,\n",
       " -590973440.0,\n",
       " -589468900.0,\n",
       " -588652860.0,\n",
       " -588286400.0,\n",
       " -586524350.0,\n",
       " -583567200.0,\n",
       " -565263800.0,\n",
       " -563923300.0,\n",
       " -563041500.0,\n",
       " -562403500.0,\n",
       " -561545150.0,\n",
       " -551639400.0,\n",
       " -535771140.0,\n",
       " -533129630.0,\n",
       " -531897500.0,\n",
       " -531429300.0,\n",
       " -529475900.0,\n",
       " -527215940.0,\n",
       " -526795520.0,\n",
       " -521631840.0,\n",
       " -521525600.0,\n",
       " -516812350.0,\n",
       " -516613660.0,\n",
       " -516153660.0,\n",
       " -513179900.0,\n",
       " -512893100.0,\n",
       " -508592580.0,\n",
       " -503053340.0,\n",
       " -502080700.0,\n",
       " -501014880.0,\n",
       " -497597920.0,\n",
       " -497329020.0,\n",
       " -496954500.0,\n",
       " -496183460.0,\n",
       " -495575840.0,\n",
       " -494065570.0,\n",
       " -492789760.0,\n",
       " -487419650.0,\n",
       " -486433400.0,\n",
       " -485008350.0,\n",
       " -484580100.0,\n",
       " -483839580.0,\n",
       " -482619520.0,\n",
       " -480672830.0,\n",
       " -477714140.0,\n",
       " -475729400.0,\n",
       " -473596160.0,\n",
       " -473511140.0,\n",
       " -473356700.0,\n",
       " -471791740.0,\n",
       " -469882940.0,\n",
       " -468038270.0,\n",
       " -466037700.0,\n",
       " -464414940.0,\n",
       " -453848300.0,\n",
       " -453738700.0,\n",
       " -447676380.0,\n",
       " -447574700.0,\n",
       " -445915700.0,\n",
       " -445664320.0,\n",
       " -438579800.0,\n",
       " -429903840.0,\n",
       " -418918400.0,\n",
       " -417877340.0,\n",
       " -413350270.0,\n",
       " -412373820.0,\n",
       " -409847140.0,\n",
       " -409437300.0,\n",
       " -407951360.0,\n",
       " -403819620.0,\n",
       " -401117060.0,\n",
       " -398834370.0,\n",
       " -398632030.0,\n",
       " -398045980.0,\n",
       " -398004400.0,\n",
       " -395752960.0,\n",
       " -390676800.0,\n",
       " -390653020.0,\n",
       " -388856160.0,\n",
       " -385308830.0,\n",
       " -384311600.0,\n",
       " -382703140.0,\n",
       " -378395230.0,\n",
       " -376939870.0,\n",
       " -376155550.0,\n",
       " -376076600.0,\n",
       " -374682370.0,\n",
       " -370384220.0,\n",
       " -370060130.0,\n",
       " -368973020.0,\n",
       " -367480200.0,\n",
       " -366485000.0,\n",
       " -366233300.0,\n",
       " -366151740.0,\n",
       " -360686700.0,\n",
       " -360294000.0,\n",
       " -360165150.0,\n",
       " -360146800.0,\n",
       " -358560700.0,\n",
       " -354854340.0,\n",
       " -354643400.0,\n",
       " -347238600.0,\n",
       " -343122140.0,\n",
       " -337739500.0,\n",
       " -337518620.0,\n",
       " -328045630.0,\n",
       " -324864930.0,\n",
       " -324324670.0,\n",
       " -324286080.0,\n",
       " -323218940.0,\n",
       " -320057340.0,\n",
       " -318144300.0,\n",
       " -318128480.0,\n",
       " -312982880.0,\n",
       " -311757200.0,\n",
       " -304829020.0,\n",
       " -304453540.0,\n",
       " -301337540.0,\n",
       " -300831700.0,\n",
       " -300749570.0,\n",
       " -298379900.0,\n",
       " -296547650.0,\n",
       " -296366000.0,\n",
       " -294534370.0,\n",
       " -292784350.0,\n",
       " -291316640.0,\n",
       " -289063650.0,\n",
       " -287515600.0,\n",
       " -286355400.0,\n",
       " -285661920.0,\n",
       " -285079600.0,\n",
       " -284239580.0,\n",
       " -282575100.0,\n",
       " -282138800.0,\n",
       " -281915970.0,\n",
       " -281774270.0,\n",
       " -279927900.0,\n",
       " -277412220.0,\n",
       " -275324480.0,\n",
       " -274755840.0,\n",
       " -274652160.0,\n",
       " -269845950.0,\n",
       " ...]"
      ]
     },
     "execution_count": 29,
     "metadata": {},
     "output_type": "execute_result"
    }
   ],
   "source": [
    "maes"
   ]
  },
  {
   "cell_type": "code",
   "execution_count": 30,
   "metadata": {},
   "outputs": [
    {
     "data": {
      "text/plain": [
       "[0,\n",
       " 0.0031404975,\n",
       " 0.00978238,\n",
       " 0.00978238,\n",
       " 0.00978238,\n",
       " 0.111188404,\n",
       " 0.74724084,\n",
       " 0.74724084,\n",
       " 0.74724084,\n",
       " 0.74724084,\n",
       " 0]"
      ]
     },
     "execution_count": 30,
     "metadata": {},
     "output_type": "execute_result"
    }
   ],
   "source": [
    "q_hats"
   ]
  },
  {
   "cell_type": "code",
   "execution_count": 31,
   "metadata": {},
   "outputs": [
    {
     "data": {
      "text/plain": [
       "{'text.usetex': True,\n",
       " 'font.family': 'serif',\n",
       " 'text.latex.preamble': '\\\\usepackage{times} ',\n",
       " 'figure.figsize': (3.25, 2.0086104634371584),\n",
       " 'figure.constrained_layout.use': True,\n",
       " 'figure.autolayout': False,\n",
       " 'savefig.bbox': 'tight',\n",
       " 'savefig.pad_inches': 0.015,\n",
       " 'font.size': 8,\n",
       " 'axes.labelsize': 8,\n",
       " 'legend.fontsize': 6,\n",
       " 'xtick.labelsize': 6,\n",
       " 'ytick.labelsize': 6,\n",
       " 'axes.titlesize': 8}"
      ]
     },
     "execution_count": 31,
     "metadata": {},
     "output_type": "execute_result"
    }
   ],
   "source": [
    "bundles.icml2022()"
   ]
  },
  {
   "cell_type": "code",
   "execution_count": 32,
   "metadata": {},
   "outputs": [
    {
     "data": {
      "text/plain": [
       "<matplotlib.legend.Legend at 0x7ff468595dd0>"
      ]
     },
     "execution_count": 32,
     "metadata": {},
     "output_type": "execute_result"
    },
    {
     "data": {
      "image/png": "[encoded data removed]",
      "text/plain": [
       "<Figure size 640x480 with 1 Axes>"
      ]
     },
     "metadata": {},
     "output_type": "display_data"
    }
   ],
   "source": [
    "plt.plot(maes[:5500], label='MAEs')\n",
    "plt.xlabel('Index')\n",
    "plt.ylabel('Error')\n",
    "plt.title('Errors(MAEs) in increasing order')\n",
    "plt.legend()\n",
    "# plt.savefig(\n",
    "#     f'/home/haikoo.khandor/haikoo/conformal/con_figures/{appliances[0]}_S2P_Homo_Conformal_MAEs_plot.pdf')"
   ]
  },
  {
   "cell_type": "code",
   "execution_count": 33,
   "metadata": {},
   "outputs": [
    {
     "data": {
      "text/plain": [
       "'Wall time: 3.35 s'"
      ]
     },
     "execution_count": 33,
     "metadata": {},
     "output_type": "execute_result"
    }
   ],
   "source": [
    "conformal_time = cap.stdout.split('\\n')[1]\n",
    "conformal_time"
   ]
  },
  {
   "cell_type": "code",
   "execution_count": 34,
   "metadata": {},
   "outputs": [
    {
     "name": "stdout",
     "output_type": "stream",
     "text": [
      "Calibration:\n",
      "Final ace error is 2.239325842696629 and ece error is 0.20357507660878446\n"
     ]
    }
   ],
   "source": [
    "ace_fin_cal, ece_fin_cal = calib_errors(ci, coverages_cal)\n",
    "print('Calibration:')\n",
    "print(f'Final ace error is {ace_fin_cal} and ece error is {ece_fin_cal}')"
   ]
  },
  {
   "cell_type": "code",
   "execution_count": 35,
   "metadata": {},
   "outputs": [
    {
     "data": {
      "text/plain": [
       "array([0.        , 0.00428082, 0.00438784, 0.00438784, 0.00438784,\n",
       "       0.02124358, 0.54944349, 0.54944349, 0.54944349, 0.54944349,\n",
       "       1.        ])"
      ]
     },
     "execution_count": 35,
     "metadata": {},
     "output_type": "execute_result"
    }
   ],
   "source": [
    "ci = np.array([0, 0.1, 0.2, 0.3, 0.4, 0.5, 0.6, 0.7, 0.8, 0.9, 1])\n",
    "coverages_train, _ = find_coverage_train_test(\n",
    "    y_true, y_hat_train, ci, q_hats)\n",
    "coverages_train"
   ]
  },
  {
   "cell_type": "code",
   "execution_count": 36,
   "metadata": {},
   "outputs": [
    {
     "data": {
      "text/plain": [
       "[0,\n",
       " 0.0031404975,\n",
       " 0.00978238,\n",
       " 0.00978238,\n",
       " 0.00978238,\n",
       " 0.111188404,\n",
       " 0.74724084,\n",
       " 0.74724084,\n",
       " 0.74724084,\n",
       " 0.74724084,\n",
       " 0]"
      ]
     },
     "execution_count": 36,
     "metadata": {},
     "output_type": "execute_result"
    }
   ],
   "source": [
    "q_hats"
   ]
  },
  {
   "cell_type": "code",
   "execution_count": 37,
   "metadata": {},
   "outputs": [
    {
     "name": "stdout",
     "output_type": "stream",
     "text": [
      "Train:\n",
      "Final ace error is 2.263538099315068 and ece error is 0.20577619084682439\n"
     ]
    }
   ],
   "source": [
    "ace_fin_train, ece_fin_train = calib_errors(ci, coverages_train)\n",
    "print('Train:')\n",
    "print(f'Final ace error is {ace_fin_train} and ece error is {ece_fin_train}')"
   ]
  },
  {
   "cell_type": "code",
   "execution_count": 38,
   "metadata": {},
   "outputs": [
    {
     "data": {
      "text/plain": [
       "array([0.00000000e+00, 6.38732745e-04, 6.38732745e-04, 6.38732745e-04,\n",
       "       6.38732745e-04, 1.98007142e-03, 4.86075610e-01, 4.86075610e-01,\n",
       "       4.86075610e-01, 4.86075610e-01, 1.00000000e+00])"
      ]
     },
     "execution_count": 38,
     "metadata": {},
     "output_type": "execute_result"
    }
   ],
   "source": [
    "ci = np.array([0, 0.1, 0.2, 0.3, 0.4, 0.5, 0.6, 0.7, 0.8, 0.9, 1])\n",
    "coverages_test, _ = find_coverage_train_test(\n",
    "    y_test, y_hat_test, ci, q_hats)\n",
    "coverages_test"
   ]
  },
  {
   "cell_type": "code",
   "execution_count": 39,
   "metadata": {},
   "outputs": [
    {
     "name": "stdout",
     "output_type": "stream",
     "text": [
      "Final ace error is 2.551162557909265 and ece error is 0.2319238689008423\n"
     ]
    }
   ],
   "source": [
    "ace_fin_test, ece_fin_test = calib_errors(ci, coverages_test)\n",
    "print(f'Final ace error is {ace_fin_test} and ece error is {ece_fin_test}')"
   ]
  },
  {
   "cell_type": "code",
   "execution_count": 40,
   "metadata": {},
   "outputs": [
    {
     "data": {
      "text/plain": [
       "{'text.usetex': True,\n",
       " 'font.family': 'serif',\n",
       " 'text.latex.preamble': '\\\\usepackage{times} ',\n",
       " 'figure.figsize': (3.25, 2.0086104634371584),\n",
       " 'figure.constrained_layout.use': True,\n",
       " 'figure.autolayout': False,\n",
       " 'savefig.bbox': 'tight',\n",
       " 'savefig.pad_inches': 0.015,\n",
       " 'font.size': 8,\n",
       " 'axes.labelsize': 8,\n",
       " 'legend.fontsize': 6,\n",
       " 'xtick.labelsize': 6,\n",
       " 'ytick.labelsize': 6,\n",
       " 'axes.titlesize': 8}"
      ]
     },
     "execution_count": 40,
     "metadata": {},
     "output_type": "execute_result"
    }
   ],
   "source": [
    "bundles.icml2022()"
   ]
  },
  {
   "cell_type": "code",
   "execution_count": 41,
   "metadata": {},
   "outputs": [
    {
     "data": {
      "text/plain": [
       "<matplotlib.legend.Legend at 0x7fe3378498d0>"
      ]
     },
     "execution_count": 41,
     "metadata": {},
     "output_type": "execute_result"
    },
    {
     "data": {
      "image/png": "[encoded data removed]",
      "text/plain": [
       "<Figure size 550x200 with 3 Axes>"
      ]
     },
     "metadata": {},
     "output_type": "display_data"
    }
   ],
   "source": [
    "plt.rcParams.update(bundles.icml2022())\n",
    "plt.rcParams.update({'figure.figsize': (5.5, 2)})\n",
    "plt.subplot(1, 3, 1)\n",
    "plt.plot(ci, coverages_train, label='After Conformal', linestyle='--')\n",
    "plt.plot([0, 1], [0, 1], label=\"Ideal\", linestyle='--')\n",
    "plt.title(\n",
    "    f'Train: After Calibration: {\"{:.4f}\".format(ece_fin_train)}')\n",
    "plt.legend()\n",
    "\n",
    "# Calibration\n",
    "plt.subplot(1, 3, 2)\n",
    "plt.plot(ci, coverages_cal, label='After Conformal', linestyle='--')\n",
    "plt.plot([0, 1], [0, 1], label=\"Ideal\", linestyle='--')\n",
    "plt.title(\n",
    "    f'Calibration: After Calibration: {\"{:.4f}\".format(ece_fin_cal)}')\n",
    "plt.legend()\n",
    "\n",
    "# Test\n",
    "plt.subplot(1, 3, 3)\n",
    "plt.plot(ci, coverages_test, label='After Conformal', linestyle='--')\n",
    "plt.plot([0, 1], [0, 1], label=\"Ideal\", linestyle='--')\n",
    "plt.title(\n",
    "    f'Test:After Calibration: {\"{:.4f}\".format(ece_fin_test)}')\n",
    "plt.legend()\n",
    "# plt.savefig(\n",
    "#     f'/home/haikoo.khandor/haikoo/conformal/con_figures/{appliances[0]}_S2P_Homo_Conformal.pdf')"
   ]
  }
 ],
 "metadata": {
  "accelerator": "GPU",
  "colab": {
   "collapsed_sections": [],
   "name": "refrigerator_s2p.ipynb",
   "provenance": []
  },
  "gpuClass": "standard",
  "kernelspec": {
   "display_name": "Python 3 (ipykernel)",
   "language": "python",
   "name": "python3"
  },
  "language_info": {
   "codemirror_mode": {
    "name": "ipython",
    "version": 3
   },
   "file_extension": ".py",
   "mimetype": "text/x-python",
   "name": "python",
   "nbconvert_exporter": "python",
   "pygments_lexer": "ipython3",
   "version": "3.11.4"
  },
  "vscode": {
   "interpreter": {
    "hash": "c83e220350cf0ab5826e6b1be89cddaa76cb99bb0cd09005c249f61fd7463acd"
   }
  }
 },
 "nbformat": 4,
 "nbformat_minor": 1
}
